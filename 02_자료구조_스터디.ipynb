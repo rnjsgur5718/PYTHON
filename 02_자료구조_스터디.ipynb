{
 "cells": [
  {
   "cell_type": "markdown",
   "id": "4ceaf6bb",
   "metadata": {},
   "source": [
    "# 마크다운\n",
    "   - **셀 변환**  \n",
    "    1. m : code -> markdown cell로 변환\n",
    "    1. y : markdown cell에서 code cell 변환"
   ]
  },
  {
   "cell_type": "markdown",
   "id": "4db03ba2",
   "metadata": {},
   "source": [
    "# 리스트\n",
    "- 순서가 있는 자료구조\n",
    "    - 원소들을 index로 관리한다.\n",
    "- 생성\n",
    "    - `1 = [값, 값, 값, ...]`\n",
    "    "
   ]
  },
  {
   "cell_type": "markdown",
   "id": "1a91b5b8",
   "metadata": {},
   "source": [
    "# "
   ]
  },
  {
   "cell_type": "code",
   "execution_count": 12,
   "id": "ec5c7b0c",
   "metadata": {},
   "outputs": [],
   "source": [
    "l1 = [1,2,10,30]\n",
    "l2 = [10.7,5,\"abc\",True, None,30,]"
   ]
  },
  {
   "cell_type": "code",
   "execution_count": 13,
   "id": "c8942a37",
   "metadata": {},
   "outputs": [
    {
     "name": "stdout",
     "output_type": "stream",
     "text": [
      "1 30\n",
      "abc None\n"
     ]
    }
   ],
   "source": [
    "# 조회 : indexting / slicing\n",
    "# indexing\n",
    "print(l1[0],l1[3])\n",
    "print(l2[2],l2[4])"
   ]
  },
  {
   "cell_type": "code",
   "execution_count": 14,
   "id": "929422f2",
   "metadata": {},
   "outputs": [
    {
     "ename": "IndexError",
     "evalue": "list index out of range",
     "output_type": "error",
     "traceback": [
      "\u001b[1;31m---------------------------------------------------------------------------\u001b[0m",
      "\u001b[1;31mIndexError\u001b[0m                                Traceback (most recent call last)",
      "Input \u001b[1;32mIn [14]\u001b[0m, in \u001b[0;36m<cell line: 2>\u001b[1;34m()\u001b[0m\n\u001b[0;32m      1\u001b[0m \u001b[38;5;66;03m# 없는 index 조회 => IndexError 에러 발생\u001b[39;00m\n\u001b[1;32m----> 2\u001b[0m \u001b[43ml1\u001b[49m\u001b[43m[\u001b[49m\u001b[38;5;241;43m10\u001b[39;49m\u001b[43m]\u001b[49m\n",
      "\u001b[1;31mIndexError\u001b[0m: list index out of range"
     ]
    }
   ],
   "source": [
    "# 없는 index 조회 => IndexError 에러 발생\n",
    "l1[10]"
   ]
  },
  {
   "cell_type": "code",
   "execution_count": 15,
   "id": "bd1891ef",
   "metadata": {},
   "outputs": [
    {
     "name": "stdout",
     "output_type": "stream",
     "text": [
      "l1 원소개수: 4\n",
      "l2 원소개수: 6\n"
     ]
    }
   ],
   "source": [
    "# index내의 원소 개수 조회\n",
    "print(\"l1 원소개수:\", len(l1))\n",
    "print(\"l2 원소개수:\", len(l2))"
   ]
  },
  {
   "cell_type": "code",
   "execution_count": 16,
   "id": "ae4eee5b",
   "metadata": {},
   "outputs": [
    {
     "name": "stdout",
     "output_type": "stream",
     "text": [
      "['abc', True, None]\n",
      "[10.7, 5, 'abc']\n",
      "[True, None, 30]\n",
      "[10.7, 'abc', None]\n"
     ]
    }
   ],
   "source": [
    "# slicing\n",
    "print(l2[2:5])\n",
    "print(l2[:3])\n",
    "print(l2[3:])\n",
    "print(l2[::2])"
   ]
  },
  {
   "cell_type": "code",
   "execution_count": 17,
   "id": "bf8e7f66",
   "metadata": {},
   "outputs": [
    {
     "data": {
      "text/plain": [
       "[100, 5, 'abc', True, None, 30]"
      ]
     },
     "execution_count": 17,
     "metadata": {},
     "output_type": "execute_result"
    }
   ],
   "source": [
    "# 리스트는 원소를 변경할 수 있다. 변경-> 대입연산\n",
    "l2[0] = 100\n",
    "l2"
   ]
  },
  {
   "cell_type": "code",
   "execution_count": 18,
   "id": "fef12f01",
   "metadata": {},
   "outputs": [
    {
     "data": {
      "text/plain": [
       "[100, 5, 'abc', True, '가나다', 30]"
      ]
     },
     "execution_count": 18,
     "metadata": {},
     "output_type": "execute_result"
    }
   ],
   "source": [
    "l2[4] = \"가나다\"\n",
    "l2"
   ]
  },
  {
   "cell_type": "code",
   "execution_count": 19,
   "id": "79deb56c",
   "metadata": {},
   "outputs": [
    {
     "data": {
      "text/plain": [
       "[1, 2, 3, 4, 5, True, '가나다', 30]"
      ]
     },
     "execution_count": 19,
     "metadata": {},
     "output_type": "execute_result"
    }
   ],
   "source": [
    "# slicing을 이용하면 지정한 범위의 원소들을 한번에 바꿀 수 있다.\n",
    "l2[:3] = [1,2,3,4,5] # 0~2 index의 값들을 1,2,3,4,5\n",
    "l2"
   ]
  },
  {
   "cell_type": "code",
   "execution_count": 20,
   "id": "84658ce2",
   "metadata": {},
   "outputs": [
    {
     "data": {
      "text/plain": [
       "[1, 2, True, '가나다', 30]"
      ]
     },
     "execution_count": 20,
     "metadata": {},
     "output_type": "execute_result"
    }
   ],
   "source": [
    "l2[2:5] = [] # 특정 범위의 원소들을 삭제\n",
    "l2"
   ]
  },
  {
   "cell_type": "code",
   "execution_count": 21,
   "id": "bc1d2add",
   "metadata": {},
   "outputs": [
    {
     "data": {
      "text/plain": [
       "[2, True, '가나다', 30]"
      ]
     },
     "execution_count": 21,
     "metadata": {},
     "output_type": "execute_result"
    }
   ],
   "source": [
    "del l2[0] # 하나의 원소만 삭제\n",
    "l2"
   ]
  },
  {
   "cell_type": "markdown",
   "id": "ed008500",
   "metadata": {},
   "source": [
    "**리스트를 포함한 자료구조도 값이다.**\n",
    "- 리스트(자료구조)에 다른 자료구조들을 원소로 추가할 수 있다."
   ]
  },
  {
   "cell_type": "code",
   "execution_count": 34,
   "id": "871f47ae",
   "metadata": {},
   "outputs": [],
   "source": [
    "l3=[[1,2], [3,4],[5,6]]"
   ]
  },
  {
   "cell_type": "code",
   "execution_count": 35,
   "id": "9053a69c",
   "metadata": {},
   "outputs": [
    {
     "data": {
      "text/plain": [
       "[1, 2]"
      ]
     },
     "execution_count": 35,
     "metadata": {},
     "output_type": "execute_result"
    }
   ],
   "source": [
    "l3[0]"
   ]
  },
  {
   "cell_type": "code",
   "execution_count": 36,
   "id": "407444f2",
   "metadata": {},
   "outputs": [
    {
     "data": {
      "text/plain": [
       "[1, 2]"
      ]
     },
     "execution_count": 36,
     "metadata": {},
     "output_type": "execute_result"
    }
   ],
   "source": [
    "l4=l3[0]\n",
    "l4"
   ]
  },
  {
   "cell_type": "code",
   "execution_count": 37,
   "id": "1a4c1adc",
   "metadata": {},
   "outputs": [
    {
     "data": {
      "text/plain": [
       "2"
      ]
     },
     "execution_count": 37,
     "metadata": {},
     "output_type": "execute_result"
    }
   ],
   "source": [
    "l4[1]"
   ]
  },
  {
   "cell_type": "code",
   "execution_count": 40,
   "id": "67ff5160",
   "metadata": {},
   "outputs": [
    {
     "name": "stdout",
     "output_type": "stream",
     "text": [
      "2\n",
      "5\n"
     ]
    }
   ],
   "source": [
    "print(l3[0][1])\n",
    "print(l3[2][0])"
   ]
  },
  {
   "cell_type": "code",
   "execution_count": 41,
   "id": "04394037",
   "metadata": {},
   "outputs": [],
   "source": [
    "l4=[\n",
    "    [\n",
    "        [1,2], [3,4],[5,6]\n",
    "    ],\n",
    "    [\n",
    "        [10,20],[30,40],[50,60]\n",
    "    ]\n",
    "]"
   ]
  },
  {
   "cell_type": "code",
   "execution_count": 43,
   "id": "486753cd",
   "metadata": {},
   "outputs": [
    {
     "data": {
      "text/plain": [
       "4"
      ]
     },
     "execution_count": 43,
     "metadata": {},
     "output_type": "execute_result"
    }
   ],
   "source": [
    "l4[0][1][1]"
   ]
  },
  {
   "cell_type": "code",
   "execution_count": 45,
   "id": "c3b4601a",
   "metadata": {
    "scrolled": true
   },
   "outputs": [
    {
     "data": {
      "text/plain": [
       "60"
      ]
     },
     "execution_count": 45,
     "metadata": {},
     "output_type": "execute_result"
    }
   ],
   "source": [
    "l4[1][2][1]"
   ]
  },
  {
   "cell_type": "markdown",
   "id": "469f6fd0",
   "metadata": {},
   "source": [
    "### 리스트 연산자\n",
    "- 리스트 + 리스트 : 두 리스트를 합친 새로운 리스트 반환\n",
    "- 리스트 * 정수 : 리스트르르 정수만큼 반복해서   합친 새로운 리스트를 반환\n",
    "- 값 in 리스트, 값 not in 리스트 : 리스트안에 값이 있는지(in), 없는지 (not in) bool 값으로 반환"
   ]
  },
  {
   "cell_type": "code",
   "execution_count": 48,
   "id": "a2cfcee5",
   "metadata": {},
   "outputs": [
    {
     "name": "stdout",
     "output_type": "stream",
     "text": [
      "[1, 2, 3, 10, 20, 30]\n"
     ]
    }
   ],
   "source": [
    "l1=[1,2,3]\n",
    "l2=[10,20,30]\n",
    "l3=l1 +l2\n",
    "print(l3)"
   ]
  },
  {
   "cell_type": "code",
   "execution_count": 49,
   "id": "1355e6b8",
   "metadata": {},
   "outputs": [
    {
     "data": {
      "text/plain": [
       "[1, 2, 3, 1, 2, 3, 1, 2, 3]"
      ]
     },
     "execution_count": 49,
     "metadata": {},
     "output_type": "execute_result"
    }
   ],
   "source": [
    "l4 = l1 * 3\n",
    "l4"
   ]
  },
  {
   "cell_type": "code",
   "execution_count": 50,
   "id": "a6fba4ce",
   "metadata": {},
   "outputs": [
    {
     "data": {
      "text/plain": [
       "'123123123'"
      ]
     },
     "execution_count": 50,
     "metadata": {},
     "output_type": "execute_result"
    }
   ],
   "source": [
    "l4 = \"123\"*3\n",
    "l4\n"
   ]
  },
  {
   "cell_type": "code",
   "execution_count": 54,
   "id": "391cf348",
   "metadata": {},
   "outputs": [
    {
     "data": {
      "text/plain": [
       "False"
      ]
     },
     "execution_count": 54,
     "metadata": {},
     "output_type": "execute_result"
    }
   ],
   "source": [
    "10 in l1\n"
   ]
  },
  {
   "cell_type": "code",
   "execution_count": 55,
   "id": "75d9483f",
   "metadata": {},
   "outputs": [
    {
     "data": {
      "text/plain": [
       "True"
      ]
     },
     "execution_count": 55,
     "metadata": {},
     "output_type": "execute_result"
    }
   ],
   "source": [
    "10 not in l1"
   ]
  },
  {
   "cell_type": "markdown",
   "id": "f9f1403b",
   "metadata": {},
   "source": [
    "**리스트 대입**\n",
    "- 여러개의 변수에 리스트의 값들을한번에 대입"
   ]
  },
  {
   "cell_type": "code",
   "execution_count": 28,
   "id": "e4f3af03",
   "metadata": {},
   "outputs": [
    {
     "name": "stdout",
     "output_type": "stream",
     "text": [
      "1 2 3\n",
      "6\n"
     ]
    }
   ],
   "source": [
    "a, b, c=[1,2,3] # 변수와 리스트 원소의 개수가 같아야 한다.\n",
    "print(a,b,c)\n",
    "print(a+b+c)"
   ]
  },
  {
   "cell_type": "code",
   "execution_count": 29,
   "id": "9052ee87",
   "metadata": {},
   "outputs": [],
   "source": [
    "a,b,c = 10,20,30 # 튜플 대입"
   ]
  },
  {
   "cell_type": "markdown",
   "id": "a6eb143e",
   "metadata": {},
   "source": [
    "### 주요 함수"
   ]
  },
  {
   "cell_type": "code",
   "execution_count": 30,
   "id": "46ecaab2",
   "metadata": {},
   "outputs": [
    {
     "name": "stdout",
     "output_type": "stream",
     "text": [
      "원소개수 :  5\n"
     ]
    }
   ],
   "source": [
    "print(\"원소개수 : \",len(l1))"
   ]
  },
  {
   "cell_type": "code",
   "execution_count": 31,
   "id": "97f7ed4a",
   "metadata": {},
   "outputs": [
    {
     "data": {
      "text/plain": [
       "[1, 2, 10, 30, 10, 10]"
      ]
     },
     "execution_count": 31,
     "metadata": {},
     "output_type": "execute_result"
    }
   ],
   "source": [
    "l1.append(10) # 추가할 값\n",
    "l1"
   ]
  },
  {
   "cell_type": "code",
   "execution_count": 32,
   "id": "859647e4",
   "metadata": {},
   "outputs": [
    {
     "data": {
      "text/plain": [
       "[1, 2, 10, 30, 10, 10, 20]"
      ]
     },
     "execution_count": 32,
     "metadata": {},
     "output_type": "execute_result"
    }
   ],
   "source": [
    "l1.append(20)\n",
    "l1"
   ]
  },
  {
   "cell_type": "code",
   "execution_count": 69,
   "id": "35620c62",
   "metadata": {},
   "outputs": [
    {
     "data": {
      "text/plain": [
       "[1, 2, 3, 10, 10, 20, 3, 4, 5, 3, 4, 5]"
      ]
     },
     "execution_count": 69,
     "metadata": {},
     "output_type": "execute_result"
    }
   ],
   "source": [
    "l1.extend([3,4,5]) # 리스트에 추가\n",
    "l1"
   ]
  },
  {
   "cell_type": "markdown",
   "id": "e3c85bc9",
   "metadata": {},
   "source": []
  },
  {
   "cell_type": "code",
   "execution_count": 72,
   "id": "9d49c95e",
   "metadata": {},
   "outputs": [
    {
     "data": {
      "text/plain": [
       "[1, 2, 3, 10, 10, 20, 3, 4, 5, 3, 4, 5]"
      ]
     },
     "execution_count": 72,
     "metadata": {},
     "output_type": "execute_result"
    }
   ],
   "source": [
    "l1 + [3,4,5] # [30,40,50] 을 합친 새로운 리스트가 반환 (l1은 안바뀐다)\n",
    "l1"
   ]
  },
  {
   "cell_type": "code",
   "execution_count": 75,
   "id": "d614f4da",
   "metadata": {},
   "outputs": [
    {
     "data": {
      "text/plain": [
       "[1, 2, 3, 3, 3, 4, 4, 5, 5, 10, 10, 20]"
      ]
     },
     "execution_count": 75,
     "metadata": {},
     "output_type": "execute_result"
    }
   ],
   "source": [
    "# 정렬 - sorted(리스트) : 원본 리스트를 변경하지 않고 정력한 새로운 리스트를 반환.\n",
    "sorted(l1) # 오름차순\n",
    "sorted(l1, reverse=True) # 내림차순\n",
    "l2 = sorted(l1)\n",
    "l2"
   ]
  },
  {
   "cell_type": "code",
   "execution_count": 76,
   "id": "4b98627a",
   "metadata": {},
   "outputs": [
    {
     "data": {
      "text/plain": [
       "[1, 2, 3, 10, 10, 20, 3, 4, 5, 3, 4, 5]"
      ]
     },
     "execution_count": 76,
     "metadata": {},
     "output_type": "execute_result"
    }
   ],
   "source": [
    "l1"
   ]
  },
  {
   "cell_type": "code",
   "execution_count": 78,
   "id": "8c6ac236",
   "metadata": {},
   "outputs": [
    {
     "data": {
      "text/plain": [
       "[1, 2, 3, 3, 3, 4, 4, 5, 5, 10, 10, 20]"
      ]
     },
     "execution_count": 78,
     "metadata": {},
     "output_type": "execute_result"
    }
   ],
   "source": [
    "# 정렬 - 리스트.sort() - 원본 리스트 자체를 정렬한다.\n",
    "l1.sort()\n",
    "l1"
   ]
  },
  {
   "cell_type": "code",
   "execution_count": 79,
   "id": "3ecf8f10",
   "metadata": {},
   "outputs": [
    {
     "data": {
      "text/plain": [
       "[20, 10, 10, 5, 5, 4, 4, 3, 3, 3, 2, 1]"
      ]
     },
     "execution_count": 79,
     "metadata": {},
     "output_type": "execute_result"
    }
   ],
   "source": [
    "l1.sort(reverse=True) # 내림차순\n",
    "l1"
   ]
  },
  {
   "cell_type": "code",
   "execution_count": 80,
   "id": "defedc59",
   "metadata": {},
   "outputs": [
    {
     "data": {
      "text/plain": [
       "[20, 10, 10, '가나다', 5, 5, 4, 4, 3, 3, 3, 2, 1]"
      ]
     },
     "execution_count": 80,
     "metadata": {},
     "output_type": "execute_result"
    }
   ],
   "source": [
    "l1.insert(3, \"가나다\") # index 3 에 \"가나다\" 를 삽입\n",
    "l1"
   ]
  },
  {
   "cell_type": "code",
   "execution_count": 81,
   "id": "1b086bbe",
   "metadata": {},
   "outputs": [
    {
     "data": {
      "text/plain": [
       "[10, 10, '가나다', 5, 5, 4, 4, 3, 3, 3, 2, 1]"
      ]
     },
     "execution_count": 81,
     "metadata": {},
     "output_type": "execute_result"
    }
   ],
   "source": [
    "# index로 원소 삭제 : del\n",
    "del l1[0]\n",
    "l1"
   ]
  },
  {
   "cell_type": "code",
   "execution_count": 82,
   "id": "2adbbe76",
   "metadata": {},
   "outputs": [
    {
     "data": {
      "text/plain": [
       "[10, 10, 5, 5, 4, 4, 3, 3, 3, 2, 1]"
      ]
     },
     "execution_count": 82,
     "metadata": {},
     "output_type": "execute_result"
    }
   ],
   "source": [
    "# 값으로 삭제\n",
    "l1.remove(\"가나다\")\n",
    "l1"
   ]
  },
  {
   "cell_type": "code",
   "execution_count": 83,
   "id": "f09e82e7",
   "metadata": {},
   "outputs": [
    {
     "data": {
      "text/plain": [
       "[10, 5, 5, 4, 4, 3, 3, 3, 2, 1]"
      ]
     },
     "execution_count": 83,
     "metadata": {},
     "output_type": "execute_result"
    }
   ],
   "source": [
    "l1.remove(10) # 값이 여러개일 경우 첫번째 값만 삭제\n",
    "l1"
   ]
  },
  {
   "cell_type": "code",
   "execution_count": 84,
   "id": "524bc9fb",
   "metadata": {},
   "outputs": [
    {
     "data": {
      "text/plain": [
       "1"
      ]
     },
     "execution_count": 84,
     "metadata": {},
     "output_type": "execute_result"
    }
   ],
   "source": [
    "l1.count(10) # 값 10 이 몇 개인지"
   ]
  },
  {
   "cell_type": "code",
   "execution_count": 85,
   "id": "c3a876b3",
   "metadata": {},
   "outputs": [
    {
     "data": {
      "text/plain": [
       "[]"
      ]
     },
     "execution_count": 85,
     "metadata": {},
     "output_type": "execute_result"
    }
   ],
   "source": [
    "l1.clear() # 모든 원속 다 삭제\n",
    "l1"
   ]
  },
  {
   "cell_type": "markdown",
   "id": "4505ac7c",
   "metadata": {},
   "source": [
    "## 튜플(Tuple)\n",
    "- 리스트 처럼 순서가 있는 자료구조\n",
    "    -index (양수, 음수) 로 원소를 관리\n",
    "    - 원소를 변경할 수 없다.(추가, 삭제, 변경 이 안된다.)\n",
    "- 생성    "
   ]
  },
  {
   "cell_type": "code",
   "execution_count": 87,
   "id": "26d8dbce",
   "metadata": {},
   "outputs": [],
   "source": [
    "t1 = (1,2,3,4,5) # 소괄호로 묶는다.\n",
    "t2 = 10,20,30,40,50 # 소괄호 생략 가능"
   ]
  },
  {
   "cell_type": "code",
   "execution_count": 88,
   "id": "793f2987",
   "metadata": {},
   "outputs": [
    {
     "data": {
      "text/plain": [
       "(1, 2, 3, 4, 5)"
      ]
     },
     "execution_count": 88,
     "metadata": {},
     "output_type": "execute_result"
    }
   ],
   "source": [
    "t1"
   ]
  },
  {
   "cell_type": "code",
   "execution_count": 89,
   "id": "55070248",
   "metadata": {},
   "outputs": [
    {
     "data": {
      "text/plain": [
       "(10, 20, 30, 40, 50)"
      ]
     },
     "execution_count": 89,
     "metadata": {},
     "output_type": "execute_result"
    }
   ],
   "source": [
    "t2"
   ]
  },
  {
   "cell_type": "code",
   "execution_count": 91,
   "id": "6f32516d",
   "metadata": {},
   "outputs": [
    {
     "data": {
      "text/plain": [
       "(10, '가', True)"
      ]
     },
     "execution_count": 91,
     "metadata": {},
     "output_type": "execute_result"
    }
   ],
   "source": [
    "t3 = 10,\"가\",True\n",
    "t3"
   ]
  },
  {
   "cell_type": "code",
   "execution_count": 94,
   "id": "8318e8cd",
   "metadata": {},
   "outputs": [
    {
     "data": {
      "text/plain": [
       "(100, int, tuple)"
      ]
     },
     "execution_count": 94,
     "metadata": {},
     "output_type": "execute_result"
    }
   ],
   "source": [
    "t4 = (100) # t4 =100\n",
    "t4, type(t4), type(t3)"
   ]
  },
  {
   "cell_type": "code",
   "execution_count": 96,
   "id": "f0f8752c",
   "metadata": {},
   "outputs": [
    {
     "name": "stdout",
     "output_type": "stream",
     "text": [
      "(100,) (100,)\n",
      "<class 'tuple'> <class 'tuple'>\n"
     ]
    }
   ],
   "source": [
    "t5 = (100,) # 원소가 하나일 경우 뒤에 , 를 붙인다.\n",
    "t6 = 100,\n",
    "print(t5, t6)\n",
    "print(type(t5), type(t6))"
   ]
  },
  {
   "cell_type": "markdown",
   "id": "f3f0cec0",
   "metadata": {},
   "source": [
    "### 튜플 대입"
   ]
  },
  {
   "cell_type": "code",
   "execution_count": 99,
   "id": "f2c38f03",
   "metadata": {},
   "outputs": [
    {
     "name": "stdout",
     "output_type": "stream",
     "text": [
      "홍길동 30 서울\n"
     ]
    }
   ],
   "source": [
    "# name, age, address = (\"홍길동\", 30, \"서울\") # 튜플 대입\n",
    "print(name, age, address)\n",
    "# name, age, address = [\"홍길동\", 30, \"서울\"] # 리스트 대입"
   ]
  },
  {
   "cell_type": "code",
   "execution_count": 102,
   "id": "ff088de8",
   "metadata": {},
   "outputs": [
    {
     "name": "stdout",
     "output_type": "stream",
     "text": [
      "홍길동1 32 서울1\n"
     ]
    }
   ],
   "source": [
    "name, age, address = \"홍길동1\", 32, \"서울1\" # 튜플 대입\n",
    "print(name, age, address)"
   ]
  },
  {
   "cell_type": "markdown",
   "id": "aa0ec81c",
   "metadata": {},
   "source": [
    "**indexing, slicing**\n",
    "- 조회만 가능하고 원소를 변경 할 수 없다."
   ]
  },
  {
   "cell_type": "code",
   "execution_count": 103,
   "id": "7d8d2792",
   "metadata": {},
   "outputs": [
    {
     "data": {
      "text/plain": [
       "(100, 20, 8)"
      ]
     },
     "execution_count": 103,
     "metadata": {},
     "output_type": "execute_result"
    }
   ],
   "source": [
    "t7=100,4,8,20,20,1,8\n",
    "t7[0], t7[3], t7[6]"
   ]
  },
  {
   "cell_type": "code",
   "execution_count": 104,
   "id": "a201bb99",
   "metadata": {},
   "outputs": [
    {
     "ename": "TypeError",
     "evalue": "'tuple' object does not support item assignment",
     "output_type": "error",
     "traceback": [
      "\u001b[1;31m---------------------------------------------------------------------------\u001b[0m",
      "\u001b[1;31mTypeError\u001b[0m                                 Traceback (most recent call last)",
      "\u001b[1;32m~\\AppData\\Local\\Temp/ipykernel_12152/684517774.py\u001b[0m in \u001b[0;36m<module>\u001b[1;34m\u001b[0m\n\u001b[1;32m----> 1\u001b[1;33m \u001b[0mt7\u001b[0m\u001b[1;33m[\u001b[0m\u001b[1;36m0\u001b[0m\u001b[1;33m]\u001b[0m \u001b[1;33m=\u001b[0m\u001b[1;36m40\u001b[0m\u001b[1;33m\u001b[0m\u001b[1;33m\u001b[0m\u001b[0m\n\u001b[0m",
      "\u001b[1;31mTypeError\u001b[0m: 'tuple' object does not support item assignment"
     ]
    }
   ],
   "source": [
    "t7[0] =40"
   ]
  },
  {
   "cell_type": "code",
   "execution_count": 105,
   "id": "e3fd895a",
   "metadata": {},
   "outputs": [
    {
     "data": {
      "text/plain": [
       "(8, 1, 20, 20, 8, 4, 100)"
      ]
     },
     "execution_count": 105,
     "metadata": {},
     "output_type": "execute_result"
    }
   ],
   "source": [
    "t7[::-1]"
   ]
  },
  {
   "cell_type": "code",
   "execution_count": 106,
   "id": "8cada69d",
   "metadata": {},
   "outputs": [
    {
     "data": {
      "text/plain": [
       "(100, 8, 20, 8)"
      ]
     },
     "execution_count": 106,
     "metadata": {},
     "output_type": "execute_result"
    }
   ],
   "source": [
    "t7[::2]"
   ]
  },
  {
   "cell_type": "code",
   "execution_count": 107,
   "id": "7f5ad0d0",
   "metadata": {},
   "outputs": [
    {
     "data": {
      "text/plain": [
       "20"
      ]
     },
     "execution_count": 107,
     "metadata": {},
     "output_type": "execute_result"
    }
   ],
   "source": [
    "t7[-3]"
   ]
  },
  {
   "cell_type": "markdown",
   "id": "bfe128d6",
   "metadata": {},
   "source": [
    "###  연산자"
   ]
  },
  {
   "cell_type": "code",
   "execution_count": 108,
   "id": "ffa2faa2",
   "metadata": {},
   "outputs": [
    {
     "data": {
      "text/plain": [
       "True"
      ]
     },
     "execution_count": 108,
     "metadata": {},
     "output_type": "execute_result"
    }
   ],
   "source": [
    "10 in t7\n",
    "8 in t7"
   ]
  },
  {
   "cell_type": "code",
   "execution_count": 111,
   "id": "536f56af",
   "metadata": {},
   "outputs": [
    {
     "data": {
      "text/plain": [
       "False"
      ]
     },
     "execution_count": 111,
     "metadata": {},
     "output_type": "execute_result"
    }
   ],
   "source": [
    "10 not in t7\n",
    "8 not in t7"
   ]
  },
  {
   "cell_type": "code",
   "execution_count": 113,
   "id": "26b4b306",
   "metadata": {},
   "outputs": [
    {
     "data": {
      "text/plain": [
       "(1, 2, 3, 4, 5, 10, '가', True)"
      ]
     },
     "execution_count": 113,
     "metadata": {},
     "output_type": "execute_result"
    }
   ],
   "source": [
    "t1 +t2"
   ]
  },
  {
   "cell_type": "code",
   "execution_count": 115,
   "id": "32e8413a",
   "metadata": {},
   "outputs": [
    {
     "data": {
      "text/plain": [
       "(1, 2, 3, 4, 5, 1, 2, 3, 4, 5)"
      ]
     },
     "execution_count": 115,
     "metadata": {},
     "output_type": "execute_result"
    }
   ],
   "source": [
    "t1*2"
   ]
  },
  {
   "cell_type": "code",
   "execution_count": 120,
   "id": "97dc41ea",
   "metadata": {},
   "outputs": [
    {
     "data": {
      "text/plain": [
       "[1, 4, 8, 8, 20, 20, 100]"
      ]
     },
     "execution_count": 120,
     "metadata": {},
     "output_type": "execute_result"
    }
   ],
   "source": [
    "sorted_t7=sorted(t7)\n",
    "sorted_t7"
   ]
  },
  {
   "cell_type": "code",
   "execution_count": 121,
   "id": "8ae7f135",
   "metadata": {},
   "outputs": [
    {
     "data": {
      "text/plain": [
       "(100, 4, 8, 20, 20, 1, 8)"
      ]
     },
     "execution_count": 121,
     "metadata": {},
     "output_type": "execute_result"
    }
   ],
   "source": [
    "t7"
   ]
  },
  {
   "cell_type": "markdown",
   "id": "6eb6311e",
   "metadata": {},
   "source": [
    "# "
   ]
  },
  {
   "cell_type": "markdown",
   "id": "1afb8156",
   "metadata": {},
   "source": [
    "# 딕셔너리\n",
    "- 데이터를 key:value 쌍(pair)로 모아서 관리하는 자료구조"
   ]
  },
  {
   "cell_type": "code",
   "execution_count": 124,
   "id": "05928115",
   "metadata": {},
   "outputs": [
    {
     "data": {
      "text/plain": [
       "{'name': '홍길동', 'age': 20, 'address': '서울'}"
      ]
     },
     "execution_count": 124,
     "metadata": {},
     "output_type": "execute_result"
    }
   ],
   "source": [
    "#생성\n",
    "person1 = {\"name\":\"홍길동\", \"age\":20,\"address\":\"서울\"}\n",
    "person2 = {\"age\":30, \"name\":\"이순신\", \"address\":\"서울\"}\n",
    "person1"
   ]
  },
  {
   "cell_type": "code",
   "execution_count": 126,
   "id": "b3224e0b",
   "metadata": {},
   "outputs": [
    {
     "name": "stdout",
     "output_type": "stream",
     "text": [
      "홍길동 이순신\n",
      "20 30\n"
     ]
    }
   ],
   "source": [
    "#값 조회\n",
    "print(person1[\"name\"], person2[\"name\"])\n",
    "print(person1[\"age\"], person2[\"age\"])\n"
   ]
  },
  {
   "cell_type": "code",
   "execution_count": 128,
   "id": "c9c93b98",
   "metadata": {},
   "outputs": [
    {
     "data": {
      "text/plain": [
       "{'name': '박철옹', 'age': 20, 'address': '서울'}"
      ]
     },
     "execution_count": 128,
     "metadata": {},
     "output_type": "execute_result"
    }
   ],
   "source": [
    "# 값 변경\n",
    "person1[\"name\"] = \"박철옹\" # 있는 key에 값을 대입하면 변경이 된다.\n",
    "person1"
   ]
  },
  {
   "cell_type": "code",
   "execution_count": 131,
   "id": "bb66a81e",
   "metadata": {},
   "outputs": [
    {
     "data": {
      "text/plain": [
       "{'name': '박철옹', 'age': 20, 'address': '서울', 'tel': '010-111-3333'}"
      ]
     },
     "execution_count": 131,
     "metadata": {},
     "output_type": "execute_result"
    }
   ],
   "source": [
    "person1[\"tel\"] = \"010-111-3333\" # 없는 key에 값을 대입하면 추가가 된다\n",
    "person1"
   ]
  },
  {
   "cell_type": "code",
   "execution_count": 133,
   "id": "09a27502",
   "metadata": {},
   "outputs": [
    {
     "ename": "KeyError",
     "evalue": "'email'",
     "output_type": "error",
     "traceback": [
      "\u001b[1;31m---------------------------------------------------------------------------\u001b[0m",
      "\u001b[1;31mKeyError\u001b[0m                                  Traceback (most recent call last)",
      "\u001b[1;32m~\\AppData\\Local\\Temp/ipykernel_12152/103009110.py\u001b[0m in \u001b[0;36m<module>\u001b[1;34m\u001b[0m\n\u001b[1;32m----> 1\u001b[1;33m \u001b[0mperson1\u001b[0m\u001b[1;33m[\u001b[0m\u001b[1;34m\"email\"\u001b[0m\u001b[1;33m]\u001b[0m \u001b[1;31m# 없는 key로 조회하면 KeyError 발생\u001b[0m\u001b[1;33m\u001b[0m\u001b[1;33m\u001b[0m\u001b[0m\n\u001b[0m",
      "\u001b[1;31mKeyError\u001b[0m: 'email'"
     ]
    }
   ],
   "source": [
    "person1[\"email\"] # 없는 key로 조회하면 KeyError 발생"
   ]
  },
  {
   "cell_type": "code",
   "execution_count": 139,
   "id": "2952b47c",
   "metadata": {},
   "outputs": [
    {
     "name": "stdout",
     "output_type": "stream",
     "text": [
      "없음\n"
     ]
    }
   ],
   "source": [
    "# dictionary.get(\"key\") : 조회\n",
    "# 없는 키값으로 조회하면 None(기본값), None 대신 반환할 기본값을 설정할 수도 있다.\n",
    "v=person2.get(\"email\", \"없음\")\n",
    "print(v)"
   ]
  },
  {
   "cell_type": "code",
   "execution_count": 142,
   "id": "c919bc5e",
   "metadata": {},
   "outputs": [
    {
     "data": {
      "text/plain": [
       "(4, 3)"
      ]
     },
     "execution_count": 142,
     "metadata": {},
     "output_type": "execute_result"
    }
   ],
   "source": [
    "len(person1), len(person2)"
   ]
  },
  {
   "cell_type": "code",
   "execution_count": 143,
   "id": "3ea0e7bd",
   "metadata": {},
   "outputs": [
    {
     "data": {
      "text/plain": [
       "{'name': '박철옹', 'age': 20, 'address': '서울', 'tel': '010-111-3333'}"
      ]
     },
     "execution_count": 143,
     "metadata": {},
     "output_type": "execute_result"
    }
   ],
   "source": [
    "person1"
   ]
  },
  {
   "cell_type": "code",
   "execution_count": 144,
   "id": "b31b6127",
   "metadata": {},
   "outputs": [
    {
     "data": {
      "text/plain": [
       "False"
      ]
     },
     "execution_count": 144,
     "metadata": {},
     "output_type": "execute_result"
    }
   ],
   "source": [
    "\"박철웅\" in person1"
   ]
  },
  {
   "cell_type": "code",
   "execution_count": 145,
   "id": "96631df7",
   "metadata": {},
   "outputs": [
    {
     "data": {
      "text/plain": [
       "True"
      ]
     },
     "execution_count": 145,
     "metadata": {},
     "output_type": "execute_result"
    }
   ],
   "source": [
    "\"name\" in person1"
   ]
  },
  {
   "cell_type": "markdown",
   "id": "ab0c06f4",
   "metadata": {},
   "source": [
    "# 주요 메소드"
   ]
  },
  {
   "cell_type": "code",
   "execution_count": 146,
   "id": "5f37a2bd",
   "metadata": {},
   "outputs": [
    {
     "data": {
      "text/plain": [
       "'박철옹'"
      ]
     },
     "execution_count": 146,
     "metadata": {},
     "output_type": "execute_result"
    }
   ],
   "source": [
    "person1.pop(\"name\")"
   ]
  },
  {
   "cell_type": "code",
   "execution_count": 147,
   "id": "69f16948",
   "metadata": {},
   "outputs": [
    {
     "data": {
      "text/plain": [
       "{'age': 20, 'address': '서울', 'tel': '010-111-3333'}"
      ]
     },
     "execution_count": 147,
     "metadata": {},
     "output_type": "execute_result"
    }
   ],
   "source": [
    "person1"
   ]
  },
  {
   "cell_type": "code",
   "execution_count": 148,
   "id": "7e418f16",
   "metadata": {},
   "outputs": [
    {
     "data": {
      "text/plain": [
       "{'address': '서울', 'tel': '010-111-3333'}"
      ]
     },
     "execution_count": 148,
     "metadata": {},
     "output_type": "execute_result"
    }
   ],
   "source": [
    "del person1[\"age\"]\n",
    "person1"
   ]
  },
  {
   "cell_type": "code",
   "execution_count": 149,
   "id": "0cf2f84f",
   "metadata": {},
   "outputs": [
    {
     "data": {
      "text/plain": [
       "dict_items([('address', '서울'), ('tel', '010-111-3333')])"
      ]
     },
     "execution_count": 149,
     "metadata": {},
     "output_type": "execute_result"
    }
   ],
   "source": [
    "person1.items()"
   ]
  },
  {
   "cell_type": "code",
   "execution_count": 150,
   "id": "09f88ea3",
   "metadata": {},
   "outputs": [
    {
     "data": {
      "text/plain": [
       "dict_keys(['address', 'tel'])"
      ]
     },
     "execution_count": 150,
     "metadata": {},
     "output_type": "execute_result"
    }
   ],
   "source": [
    "person1.keys()"
   ]
  },
  {
   "cell_type": "code",
   "execution_count": 151,
   "id": "ab5b02f8",
   "metadata": {},
   "outputs": [
    {
     "data": {
      "text/plain": [
       "dict_values(['서울', '010-111-3333'])"
      ]
     },
     "execution_count": 151,
     "metadata": {},
     "output_type": "execute_result"
    }
   ],
   "source": [
    "person1.values()"
   ]
  },
  {
   "cell_type": "markdown",
   "id": "67ac990e",
   "metadata": {},
   "source": [
    "# set(집합)\n",
    "- 중복을 허용하지 않는 자료구조"
   ]
  },
  {
   "cell_type": "code",
   "execution_count": 156,
   "id": "740d7a8a",
   "metadata": {},
   "outputs": [
    {
     "data": {
      "text/plain": [
       "{1, 2, 3, False, 'a'}"
      ]
     },
     "execution_count": 156,
     "metadata": {},
     "output_type": "execute_result"
    }
   ],
   "source": [
    "s1={1,1,1,2,2,2,3,3,3,\"a\",\"a\",\"a\", True, True, True, False, False} # 1, True=> True를 1로 취급  Falsesms 0으로 취급\n",
    "s1"
   ]
  },
  {
   "cell_type": "code",
   "execution_count": 157,
   "id": "e8b5ea89",
   "metadata": {},
   "outputs": [
    {
     "name": "stdout",
     "output_type": "stream",
     "text": [
      "{1}\n",
      "{0}\n"
     ]
    }
   ],
   "source": [
    "s2={1,True}\n",
    "s3={0,False}\n",
    "print(s2)\n",
    "print(s3)"
   ]
  },
  {
   "cell_type": "code",
   "execution_count": 160,
   "id": "ae61b87c",
   "metadata": {},
   "outputs": [
    {
     "ename": "TypeError",
     "evalue": "'set' object is not subscriptable",
     "output_type": "error",
     "traceback": [
      "\u001b[1;31m---------------------------------------------------------------------------\u001b[0m",
      "\u001b[1;31mTypeError\u001b[0m                                 Traceback (most recent call last)",
      "\u001b[1;32m~\\AppData\\Local\\Temp/ipykernel_12152/643609873.py\u001b[0m in \u001b[0;36m<module>\u001b[1;34m\u001b[0m\n\u001b[1;32m----> 1\u001b[1;33m \u001b[0ms1\u001b[0m\u001b[1;33m[\u001b[0m\u001b[1;36m0\u001b[0m\u001b[1;33m]\u001b[0m\u001b[1;33m\u001b[0m\u001b[1;33m\u001b[0m\u001b[0m\n\u001b[0m",
      "\u001b[1;31mTypeError\u001b[0m: 'set' object is not subscriptable"
     ]
    }
   ],
   "source": [
    "s1[0] # set은 원소 하나를 조회하는 것은 안된다 => 반복문을 이용"
   ]
  },
  {
   "cell_type": "markdown",
   "id": "a3110b63",
   "metadata": {},
   "source": [
    "# 연산자 "
   ]
  },
  {
   "cell_type": "code",
   "execution_count": 163,
   "id": "e1806223",
   "metadata": {},
   "outputs": [
    {
     "data": {
      "text/plain": [
       "False"
      ]
     },
     "execution_count": 163,
     "metadata": {},
     "output_type": "execute_result"
    }
   ],
   "source": [
    "1 in s1\n",
    "100 in s1"
   ]
  },
  {
   "cell_type": "code",
   "execution_count": 164,
   "id": "e6571bdf",
   "metadata": {},
   "outputs": [
    {
     "data": {
      "text/plain": [
       "True"
      ]
     },
     "execution_count": 164,
     "metadata": {},
     "output_type": "execute_result"
    }
   ],
   "source": [
    "1 not in s1\n",
    "100 not in s1"
   ]
  },
  {
   "cell_type": "code",
   "execution_count": 167,
   "id": "24ce8271",
   "metadata": {},
   "outputs": [
    {
     "name": "stdout",
     "output_type": "stream",
     "text": [
      "{1, 2, 3, 4, 5}\n",
      "{1, 2, 3, 4, 5}\n"
     ]
    }
   ],
   "source": [
    "s1={1,2,3}\n",
    "s2 = {3,4,5}\n",
    "\n",
    "# 합집합\n",
    "s3 = s1|s2 #{1,2,3,4,5}\n",
    "s4 = s1.union(s2)\n",
    "print(s3)\n",
    "print(s4)"
   ]
  },
  {
   "cell_type": "code",
   "execution_count": 170,
   "id": "4074bcb3",
   "metadata": {},
   "outputs": [
    {
     "name": "stdout",
     "output_type": "stream",
     "text": [
      "{3} {3}\n"
     ]
    }
   ],
   "source": [
    "# 교집합\n",
    "s5 = s1 & s2\n",
    "s6 = s1.intersection(s2)\n",
    "print(s5,s6)"
   ]
  },
  {
   "cell_type": "code",
   "execution_count": 171,
   "id": "f67ded0a",
   "metadata": {},
   "outputs": [
    {
     "name": "stdout",
     "output_type": "stream",
     "text": [
      "{1, 2}\n",
      "{1, 2}\n"
     ]
    }
   ],
   "source": [
    "# 차집합\n",
    "s7=s1-s2\n",
    "s8=s1.difference(s2)\n",
    "print(s7)\n",
    "print(s8)"
   ]
  },
  {
   "cell_type": "markdown",
   "id": "a3a8b4d3",
   "metadata": {},
   "source": [
    "# 메소드"
   ]
  },
  {
   "cell_type": "code",
   "execution_count": 174,
   "id": "8d3e3ccb",
   "metadata": {},
   "outputs": [
    {
     "name": "stdout",
     "output_type": "stream",
     "text": [
      "{1, 2, 3, 4, 5, 10}\n"
     ]
    },
    {
     "data": {
      "text/plain": [
       "{1, 2, 3, 4, 5, 10}"
      ]
     },
     "execution_count": 174,
     "metadata": {},
     "output_type": "execute_result"
    }
   ],
   "source": [
    " # 추가\n",
    "s3.add(10)\n",
    "print(s3)\n",
    "s3.add(10) # 있는 값을 추가하면 추가가 안됨(중복 허용 안하므로)\n",
    "s3"
   ]
  },
  {
   "cell_type": "code",
   "execution_count": 175,
   "id": "7fabb62c",
   "metadata": {},
   "outputs": [
    {
     "data": {
      "text/plain": [
       "{1, 2, 3, 4, 5, 10, 100, 200, 300, 400}"
      ]
     },
     "execution_count": 175,
     "metadata": {},
     "output_type": "execute_result"
    }
   ],
   "source": [
    "s3.update([1,2,3,100,200,300,400])\n",
    "s3"
   ]
  },
  {
   "cell_type": "code",
   "execution_count": 176,
   "id": "e2f34584",
   "metadata": {},
   "outputs": [
    {
     "name": "stdout",
     "output_type": "stream",
     "text": [
      "1\n"
     ]
    },
    {
     "data": {
      "text/plain": [
       "{2, 3, 4, 5, 10, 100, 200, 300, 400}"
      ]
     },
     "execution_count": 176,
     "metadata": {},
     "output_type": "execute_result"
    }
   ],
   "source": [
    "v= s3.pop()\n",
    "print(v)\n",
    "s3"
   ]
  },
  {
   "cell_type": "code",
   "execution_count": 177,
   "id": "76418c00",
   "metadata": {},
   "outputs": [
    {
     "data": {
      "text/plain": [
       "{2, 3, 4, 10, 100, 200, 300, 400}"
      ]
     },
     "execution_count": 177,
     "metadata": {},
     "output_type": "execute_result"
    }
   ],
   "source": [
    "s3.remove(5) # s3의 원소중 5를 삭제\n",
    "s3"
   ]
  },
  {
   "cell_type": "code",
   "execution_count": 179,
   "id": "a4083dcb",
   "metadata": {},
   "outputs": [
    {
     "ename": "KeyError",
     "evalue": "'가'",
     "output_type": "error",
     "traceback": [
      "\u001b[1;31m---------------------------------------------------------------------------\u001b[0m",
      "\u001b[1;31mKeyError\u001b[0m                                  Traceback (most recent call last)",
      "\u001b[1;32m~\\AppData\\Local\\Temp/ipykernel_12152/927135516.py\u001b[0m in \u001b[0;36m<module>\u001b[1;34m\u001b[0m\n\u001b[1;32m----> 1\u001b[1;33m \u001b[0ms3\u001b[0m\u001b[1;33m.\u001b[0m\u001b[0mremove\u001b[0m\u001b[1;33m(\u001b[0m\u001b[1;34m\"가\"\u001b[0m\u001b[1;33m)\u001b[0m \u001b[1;31m# 없는 값 삭제시 KeyError 발생.\u001b[0m\u001b[1;33m\u001b[0m\u001b[1;33m\u001b[0m\u001b[0m\n\u001b[0m",
      "\u001b[1;31mKeyError\u001b[0m: '가'"
     ]
    }
   ],
   "source": [
    "s3.remove(\"가\") # 없는 값 삭제시 KeyError 발생."
   ]
  },
  {
   "cell_type": "code",
   "execution_count": 183,
   "id": "ef895961",
   "metadata": {},
   "outputs": [
    {
     "data": {
      "text/plain": [
       "dict"
      ]
     },
     "execution_count": 183,
     "metadata": {},
     "output_type": "execute_result"
    }
   ],
   "source": [
    "var1 = []# 빈 리스트\n",
    "var2={} # 빈 dictionary\n",
    "type( var2)"
   ]
  },
  {
   "cell_type": "code",
   "execution_count": 184,
   "id": "44fe2dad",
   "metadata": {},
   "outputs": [
    {
     "data": {
      "text/plain": [
       "{'a': 100}"
      ]
     },
     "execution_count": 184,
     "metadata": {},
     "output_type": "execute_result"
    }
   ],
   "source": [
    "var2[\"a\"] = 100\n",
    "var2"
   ]
  },
  {
   "cell_type": "code",
   "execution_count": 182,
   "id": "0892e5f1",
   "metadata": {},
   "outputs": [
    {
     "data": {
      "text/plain": [
       "[10]"
      ]
     },
     "execution_count": 182,
     "metadata": {},
     "output_type": "execute_result"
    }
   ],
   "source": [
    "var1"
   ]
  },
  {
   "cell_type": "markdown",
   "id": "94d76b4f",
   "metadata": {},
   "source": [
    "# 자료구조 변환 함수\n",
    "- list(자료구조) : 자료구조를 list 로 변환\n",
    "- tuple(자료구조) : 자료구조를 Tuple로 변환\n",
    "- set(자료구조) : 자료구조를 Set 로 변환\n",
    "- dictionary 로 변환하는 함수는 없다.\n",
    "- 변경할 대상 자료구조가 Dictionary 일 경우에는 key값들만 모아서 변환"
   ]
  },
  {
   "cell_type": "code",
   "execution_count": 187,
   "id": "4c25ceab",
   "metadata": {},
   "outputs": [
    {
     "data": {
      "text/plain": [
       "([1, 2, 10, 5, 10, 2], list)"
      ]
     },
     "execution_count": 187,
     "metadata": {},
     "output_type": "execute_result"
    }
   ],
   "source": [
    "t = 1,2,10,5,10,2\n",
    "l = list(t)\n",
    "l, type(l)"
   ]
  },
  {
   "cell_type": "code",
   "execution_count": 188,
   "id": "d494e772",
   "metadata": {},
   "outputs": [
    {
     "data": {
      "text/plain": [
       "({1, 2, 5, 10}, set)"
      ]
     },
     "execution_count": 188,
     "metadata": {},
     "output_type": "execute_result"
    }
   ],
   "source": [
    "s = set(t)\n",
    "s, type(s)"
   ]
  },
  {
   "cell_type": "code",
   "execution_count": 189,
   "id": "31ce274e",
   "metadata": {},
   "outputs": [
    {
     "data": {
      "text/plain": [
       "(1, 3, 10, 20, 11)"
      ]
     },
     "execution_count": 189,
     "metadata": {},
     "output_type": "execute_result"
    }
   ],
   "source": [
    "t1 = tuple([1,3,10,20,11]) # list->tuple\n",
    "t1"
   ]
  },
  {
   "cell_type": "code",
   "execution_count": 191,
   "id": "67d6bdd2",
   "metadata": {},
   "outputs": [
    {
     "data": {
      "text/plain": [
       "{'a': 10, 'b': 20, 'c': 30}"
      ]
     },
     "execution_count": 191,
     "metadata": {},
     "output_type": "execute_result"
    }
   ],
   "source": [
    "d={\"a\" :10, \"b\":20, \"c\":30}\n",
    "d"
   ]
  },
  {
   "cell_type": "code",
   "execution_count": 192,
   "id": "bd8dbb3f",
   "metadata": {},
   "outputs": [
    {
     "data": {
      "text/plain": [
       "{'a', 'b', 'c'}"
      ]
     },
     "execution_count": 192,
     "metadata": {},
     "output_type": "execute_result"
    }
   ],
   "source": [
    "set(d) # dict->set"
   ]
  },
  {
   "cell_type": "code",
   "execution_count": 193,
   "id": "4dfed74d",
   "metadata": {},
   "outputs": [
    {
     "data": {
      "text/plain": [
       "['a', 'b', 'c']"
      ]
     },
     "execution_count": 193,
     "metadata": {},
     "output_type": "execute_result"
    }
   ],
   "source": [
    "list(d)"
   ]
  },
  {
   "cell_type": "code",
   "execution_count": 194,
   "id": "2c4d9e4a",
   "metadata": {},
   "outputs": [
    {
     "data": {
      "text/plain": [
       "('a', 'b', 'c')"
      ]
     },
     "execution_count": 194,
     "metadata": {},
     "output_type": "execute_result"
    }
   ],
   "source": [
    "tuple(d)"
   ]
  },
  {
   "cell_type": "code",
   "execution_count": 197,
   "id": "cf26ae0c",
   "metadata": {},
   "outputs": [
    {
     "data": {
      "text/plain": [
       "{'name': '홍길동', 'age': 20, 'address': '부산'}"
      ]
     },
     "execution_count": 197,
     "metadata": {},
     "output_type": "execute_result"
    }
   ],
   "source": [
    "tuple(d)\n",
    "# dict(key=value, key=value) # dictionary를 쉽게 만들도록 도와주는 함수\n",
    "d1 = dict(name=\"홍길동\", age=20, address=\"부산\")\n",
    "d1\n"
   ]
  },
  {
   "cell_type": "markdown",
   "id": "1879a63f",
   "metadata": {},
   "source": [
    "# TODO\n",
    "- control + shift + - : cell 나누기"
   ]
  },
  {
   "cell_type": "code",
   "execution_count": null,
   "id": "285a96ce",
   "metadata": {},
   "outputs": [],
   "source": [
    "#1~7 문제\n",
    "jumsu = [100, 90, 100, 80, 70, 100, 80, 90, 95, 85] "
   ]
  },
  {
   "cell_type": "code",
   "execution_count": 199,
   "id": "66f009db",
   "metadata": {},
   "outputs": [
    {
     "name": "stdout",
     "output_type": "stream",
     "text": [
      "80\n"
     ]
    }
   ],
   "source": [
    "# 문제 1 ~ 7\n",
    "jumsu = [100, 90, 100, 80, 70, 100, 80, 90, 95, 85] \n",
    "\n",
    "# 위는 학생번호 1번 ~ 10번까지 10명의 시험 점수이다. (문제 1 ~ 7)\n",
    "#(1)  7번의 점수를 출력하세요 \n",
    "print(jumsu[6])"
   ]
  },
  {
   "cell_type": "code",
   "execution_count": 200,
   "id": "16e82e92",
   "metadata": {},
   "outputs": [
    {
     "name": "stdout",
     "output_type": "stream",
     "text": [
      "[100, 90, 100, 80, 70]\n"
     ]
    }
   ],
   "source": [
    "#(2)  1번부터 5번까지의 점수를 출력하세요.\n",
    "print(jumsu[0:5])"
   ]
  },
  {
   "cell_type": "code",
   "execution_count": 201,
   "id": "9c1b865a",
   "metadata": {},
   "outputs": [
    {
     "name": "stdout",
     "output_type": "stream",
     "text": [
      "[80, 70, 100, 80]\n"
     ]
    }
   ],
   "source": [
    "#(3)  4, 5, 6, 7번의 점수를 출력하세요.\n",
    "print(jumsu[3:7])"
   ]
  },
  {
   "cell_type": "code",
   "execution_count": 202,
   "id": "b8618562",
   "metadata": {},
   "outputs": [
    {
     "name": "stdout",
     "output_type": "stream",
     "text": [
      "[90, 80, 100, 90, 85]\n"
     ]
    }
   ],
   "source": [
    "#(4) 짝수번째 점수를 출력하세요.\n",
    "print(jumsu[1::2])"
   ]
  },
  {
   "cell_type": "code",
   "execution_count": 203,
   "id": "5b58dfbb",
   "metadata": {},
   "outputs": [
    {
     "name": "stdout",
     "output_type": "stream",
     "text": [
      "[100, 100, 70, 80, 95]\n"
     ]
    }
   ],
   "source": [
    "#(5) 홀수번째 점수를 출력하세요.\n",
    "print(jumsu[::2])"
   ]
  },
  {
   "cell_type": "code",
   "execution_count": 205,
   "id": "a32b750f",
   "metadata": {},
   "outputs": [
    {
     "name": "stdout",
     "output_type": "stream",
     "text": [
      "[100, 90, 100, 80, 70, 100, 80, 90, 20, 85]\n"
     ]
    }
   ],
   "source": [
    "#(6) 9번의 점수를 20으로 변경하고 전체 출력하세요.\n",
    "jumsu[8]=20\n",
    "print(jumsu)"
   ]
  },
  {
   "cell_type": "code",
   "execution_count": 262,
   "id": "0c555e9e",
   "metadata": {},
   "outputs": [
    {
     "name": "stdout",
     "output_type": "stream",
     "text": [
      "{100, 70, 80, 20, 85, 90}\n",
      "[100, 70, 80, 20, 85, 90]\n",
      "100\n"
     ]
    }
   ],
   "source": [
    "#(7) 중복된 점수는 제거하고 하나씩만 나오도록 출력하세요.\n",
    "jumsu2=set(jumsu)\n",
    "unique_jumsu = list(jumsu2)\n",
    "print(jumsu2)\n",
    "print(unique_jumsu)\n",
    "print(unique_jumsu[0])"
   ]
  },
  {
   "cell_type": "code",
   "execution_count": null,
   "id": "01bf93c3",
   "metadata": {},
   "outputs": [],
   "source": [
    "# 문제 8 ~ 9\n",
    "fruits = [\"복숭아\", \"수박\", \"딸기\"]"
   ]
  },
  {
   "cell_type": "code",
   "execution_count": 264,
   "id": "beb94a1a",
   "metadata": {},
   "outputs": [
    {
     "data": {
      "text/plain": [
       "['복숭아', '수박', '딸기', '사과', '귤']"
      ]
     },
     "execution_count": 264,
     "metadata": {},
     "output_type": "execute_result"
    }
   ],
   "source": [
    "# 문제 8 ~ 9\n",
    "fruits = [\"복숭아\", \"수박\", \"딸기\"]\n",
    "\n",
    "#(8) fruits 리스트에 마지막 원소로 \"사과\", \"귤\"을 추가하세요.\n",
    "# fruits.append(\"사과\") # 하나씩 추가\n",
    "# fruits.append(\"귤\")\n",
    "# fruits\n",
    "fruits.extend([\"사과\",\"귤\"])\n",
    "fruits"
   ]
  },
  {
   "cell_type": "code",
   "execution_count": 221,
   "id": "67f30866",
   "metadata": {},
   "outputs": [
    {
     "data": {
      "text/plain": [
       "['수박', '딸기', '사과', '귤']"
      ]
     },
     "execution_count": 221,
     "metadata": {},
     "output_type": "execute_result"
    }
   ],
   "source": [
    "\n",
    "#(9) fruits 리스트에서 \"복숭아\"를 제거하세요.\n",
    "fruits.remove(\"복숭아\")\n",
    "fruits\n",
    "# del fruits[0] # index를 이용해서 삭제"
   ]
  },
  {
   "cell_type": "code",
   "execution_count": 265,
   "id": "07b7fb27",
   "metadata": {},
   "outputs": [
    {
     "data": {
      "text/plain": [
       "{'name': '권혁준',\n",
       " 'age': 26,\n",
       " 'email': 'rnjsgur5718@naver.com',\n",
       " 'hobby': ['영화보기', '운동'],\n",
       " 'marry': '무'}"
      ]
     },
     "execution_count": 265,
     "metadata": {},
     "output_type": "execute_result"
    }
   ],
   "source": [
    "# 문제 10 ~ 15\n",
    "#(10)본인의 이름, 나이, email주소, 취미, 결혼유무를 사전(딕셔너리)으로 생성. \n",
    "# 취미는 2개 이상의 값을 넣는다.\n",
    "me=dict(name=\"권혁준\", age=26, email=\"rnjsgur5718@naver.com\", hobby=[\"영화보기\", \"운동\"], marry=\"무\" )\n",
    "me"
   ]
  },
  {
   "cell_type": "code",
   "execution_count": 244,
   "id": "682589c6",
   "metadata": {},
   "outputs": [
    {
     "data": {
      "text/plain": [
       "('권혁준', 'rnjsgur5718@naver.com')"
      ]
     },
     "execution_count": 244,
     "metadata": {},
     "output_type": "execute_result"
    }
   ],
   "source": [
    "#(11) 위 딕셔너리에서 이름과 email주소를 조회해서 출력하세요.\n",
    "me[\"name\"],me[\"email\"]"
   ]
  },
  {
   "cell_type": "code",
   "execution_count": 266,
   "id": "c12d905c",
   "metadata": {},
   "outputs": [
    {
     "data": {
      "text/plain": [
       "'운동'"
      ]
     },
     "execution_count": 266,
     "metadata": {},
     "output_type": "execute_result"
    }
   ],
   "source": [
    "#(12) 위 딕셔너리에서 취미중 두번째 취미를 조회해서 출력하세요.\n",
    "me[\"hobby\"][1]"
   ]
  },
  {
   "cell_type": "code",
   "execution_count": 267,
   "id": "ba7bbac0",
   "metadata": {},
   "outputs": [
    {
     "data": {
      "text/plain": [
       "{'name': '권혁준',\n",
       " 'age': 26,\n",
       " 'email': 'rnjsgur5718@naver.com',\n",
       " 'hobby': ['영화보기', '운동'],\n",
       " 'marry': '무',\n",
       " '몸무게': 70,\n",
       " '키': 178}"
      ]
     },
     "execution_count": 267,
     "metadata": {},
     "output_type": "execute_result"
    }
   ],
   "source": [
    "#(13) 위 딕셔너리에 몸무게와 키 항목을 추가하세요.\n",
    "me[\"몸무게\"]=70\n",
    "me[\"키\"]=178\n",
    "me"
   ]
  },
  {
   "cell_type": "code",
   "execution_count": 268,
   "id": "58d466fd",
   "metadata": {},
   "outputs": [
    {
     "data": {
      "text/plain": [
       "{'name': '권혁준',\n",
       " 'email': 'rnjsgur5718@naver.com',\n",
       " 'hobby': ['영화보기', '운동'],\n",
       " 'marry': '무',\n",
       " '몸무게': 70,\n",
       " '키': 178}"
      ]
     },
     "execution_count": 268,
     "metadata": {},
     "output_type": "execute_result"
    }
   ],
   "source": [
    "#(14) 위 딕셔너리에서 나이를 제거하세요.\n",
    "del me[\"age\"]\n",
    "me"
   ]
  },
  {
   "cell_type": "code",
   "execution_count": 269,
   "id": "7260ec46",
   "metadata": {
    "scrolled": true
   },
   "outputs": [
    {
     "data": {
      "text/plain": [
       "{'name': '권혁준',\n",
       " 'email': 'gurwns5718@naver.com',\n",
       " 'hobby': ['영화보기', '운동'],\n",
       " 'marry': '무',\n",
       " '몸무게': 70,\n",
       " '키': 178}"
      ]
     },
     "execution_count": 269,
     "metadata": {},
     "output_type": "execute_result"
    }
   ],
   "source": [
    "#(15) 위 딕셔너리에서 email 주소를 다른 값으로 변경하세요.\n",
    "me[\"email\"]=\"gurwns5718@naver.com\"\n",
    "me"
   ]
  },
  {
   "cell_type": "code",
   "execution_count": null,
   "id": "2d6ec6e9",
   "metadata": {},
   "outputs": [],
   "source": []
  }
 ],
 "metadata": {
  "kernelspec": {
   "display_name": "Python 3 (ipykernel)",
   "language": "python",
   "name": "python3"
  },
  "language_info": {
   "codemirror_mode": {
    "name": "ipython",
    "version": 3
   },
   "file_extension": ".py",
   "mimetype": "text/x-python",
   "name": "python",
   "nbconvert_exporter": "python",
   "pygments_lexer": "ipython3",
   "version": "3.9.12"
  }
 },
 "nbformat": 4,
 "nbformat_minor": 5
}
