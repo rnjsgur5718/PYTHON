{
 "cells": [
  {
   "cell_type": "code",
   "execution_count": 8,
   "id": "cc9cbce8",
   "metadata": {},
   "outputs": [
    {
     "data": {
      "text/plain": [
       "2"
      ]
     },
     "execution_count": 8,
     "metadata": {},
     "output_type": "execute_result"
    }
   ],
   "source": [
    "# 단축키\n",
    "# shift + enter : 실행 후 다음  cell로 이동\n",
    "# contrl + enter 실행 후 실행한 cell에 머무른다.\n",
    "1+1"
   ]
  },
  {
   "cell_type": "code",
   "execution_count": 10,
   "id": "51a2ea93",
   "metadata": {},
   "outputs": [],
   "source": [
    "# 변수\n",
    "name = \"홍길동\" # \"홍길동\" 이라는 값을 name이라는 변수에 대입. 이름이 name인 공간이 메모리에 없으면 새로 만들고 대입.. 있으면 있는 공간에 대입\n"
   ]
  },
  {
   "cell_type": "code",
   "execution_count": 11,
   "id": "243aaa61",
   "metadata": {},
   "outputs": [
    {
     "name": "stdout",
     "output_type": "stream",
     "text": [
      "홍길동\n"
     ]
    }
   ],
   "source": [
    "print(name) # print(값) ()안의 값을 출력하는 함수"
   ]
  },
  {
   "cell_type": "code",
   "execution_count": 12,
   "id": "37003a1e",
   "metadata": {},
   "outputs": [],
   "source": [
    "age = 25"
   ]
  },
  {
   "cell_type": "code",
   "execution_count": 13,
   "id": "a64d4de9",
   "metadata": {},
   "outputs": [
    {
     "name": "stdout",
     "output_type": "stream",
     "text": [
      "25\n"
     ]
    }
   ],
   "source": [
    "print(age) # age 변수의 값 출력"
   ]
  },
  {
   "cell_type": "code",
   "execution_count": 14,
   "id": "9425f005",
   "metadata": {},
   "outputs": [],
   "source": [
    "age = 50 # age 변수의 값을 50으로 대체(재할당)"
   ]
  },
  {
   "cell_type": "code",
   "execution_count": 15,
   "id": "c1f2ab30",
   "metadata": {},
   "outputs": [
    {
     "name": "stdout",
     "output_type": "stream",
     "text": [
      "50\n"
     ]
    }
   ],
   "source": [
    "print(age)"
   ]
  },
  {
   "cell_type": "code",
   "execution_count": 16,
   "id": "7f133dc0",
   "metadata": {},
   "outputs": [
    {
     "name": "stdout",
     "output_type": "stream",
     "text": [
      "홍길동\n"
     ]
    }
   ],
   "source": [
    "print(name)"
   ]
  },
  {
   "cell_type": "code",
   "execution_count": 17,
   "id": "4697ece1",
   "metadata": {},
   "outputs": [],
   "source": [
    "name = \"이순신\""
   ]
  },
  {
   "cell_type": "code",
   "execution_count": 18,
   "id": "d160b174",
   "metadata": {},
   "outputs": [
    {
     "name": "stdout",
     "output_type": "stream",
     "text": [
      "이순신\n"
     ]
    }
   ],
   "source": [
    "print(name)"
   ]
  },
  {
   "cell_type": "code",
   "execution_count": 19,
   "id": "0cd4e8fb",
   "metadata": {},
   "outputs": [],
   "source": [
    "age = age + 20 # 1.age 변수가 가진 값과 20을 더하는 처리\n",
    "               # 2. 1에서 처리한 값을 age 변수에 대입"
   ]
  },
  {
   "cell_type": "code",
   "execution_count": 20,
   "id": "14e563dc",
   "metadata": {},
   "outputs": [
    {
     "name": "stdout",
     "output_type": "stream",
     "text": [
      "70\n"
     ]
    }
   ],
   "source": [
    "print(age)"
   ]
  },
  {
   "cell_type": "code",
   "execution_count": 21,
   "id": "10c8ea33",
   "metadata": {},
   "outputs": [],
   "source": [
    "age2 = age - 40"
   ]
  },
  {
   "cell_type": "code",
   "execution_count": 22,
   "id": "00d1f2c1",
   "metadata": {},
   "outputs": [
    {
     "name": "stdout",
     "output_type": "stream",
     "text": [
      "30\n"
     ]
    }
   ],
   "source": [
    "print(age2)"
   ]
  },
  {
   "cell_type": "code",
   "execution_count": 23,
   "id": "080cbac4",
   "metadata": {},
   "outputs": [
    {
     "name": "stdout",
     "output_type": "stream",
     "text": [
      "70\n"
     ]
    }
   ],
   "source": [
    "print(age)"
   ]
  },
  {
   "cell_type": "code",
   "execution_count": 24,
   "id": "a0c1a84c",
   "metadata": {},
   "outputs": [
    {
     "ename": "NameError",
     "evalue": "name 'address' is not defined",
     "output_type": "error",
     "traceback": [
      "\u001b[1;31m---------------------------------------------------------------------------\u001b[0m",
      "\u001b[1;31mNameError\u001b[0m                                 Traceback (most recent call last)",
      "\u001b[1;32m~\\AppData\\Local\\Temp/ipykernel_1648/3377555713.py\u001b[0m in \u001b[0;36m<module>\u001b[1;34m\u001b[0m\n\u001b[1;32m----> 1\u001b[1;33m \u001b[0mprint\u001b[0m\u001b[1;33m(\u001b[0m\u001b[0maddress\u001b[0m\u001b[1;33m)\u001b[0m \u001b[1;31m# 이름이  address인 변수의 값 출력 -> 없는 변수를 사용할 경우 에러 발생\u001b[0m\u001b[1;33m\u001b[0m\u001b[1;33m\u001b[0m\u001b[0m\n\u001b[0m",
      "\u001b[1;31mNameError\u001b[0m: name 'address' is not defined"
     ]
    }
   ],
   "source": [
    "print(address) # 이름이  address인 변수의 값 출력 -> 없는 변수를 사용할 경우 에러 발생 "
   ]
  },
  {
   "cell_type": "code",
   "execution_count": 25,
   "id": "290eae2a",
   "metadata": {},
   "outputs": [
    {
     "name": "stdout",
     "output_type": "stream",
     "text": [
      "70\n"
     ]
    }
   ],
   "source": [
    "print(age)"
   ]
  },
  {
   "cell_type": "code",
   "execution_count": 27,
   "id": "04edd39f",
   "metadata": {},
   "outputs": [],
   "source": [
    "age = 30 "
   ]
  },
  {
   "cell_type": "code",
   "execution_count": 30,
   "id": "5907b301",
   "metadata": {},
   "outputs": [],
   "source": [
    "Age = 50"
   ]
  },
  {
   "cell_type": "code",
   "execution_count": 31,
   "id": "aaca3354",
   "metadata": {},
   "outputs": [
    {
     "name": "stdout",
     "output_type": "stream",
     "text": [
      "30 50\n"
     ]
    }
   ],
   "source": [
    "print(age, Age) # 두개값을 한번에 출력"
   ]
  },
  {
   "cell_type": "code",
   "execution_count": 33,
   "id": "cb6236ee",
   "metadata": {},
   "outputs": [
    {
     "name": "stdout",
     "output_type": "stream",
     "text": [
      "주소\n"
     ]
    }
   ],
   "source": [
    "주소 = \"서울시 서초구 서초동\" #변수명으로 한글 가능\n",
    "print(\"주소\")"
   ]
  },
  {
   "cell_type": "code",
   "execution_count": 34,
   "id": "88a7664f",
   "metadata": {},
   "outputs": [],
   "source": [
    "우리집_주소 = \" 서울시 강남구\" # 특수문자 _ 사용가능. _는 단어 구분자로 사용."
   ]
  },
  {
   "cell_type": "code",
   "execution_count": 35,
   "id": "3b7363ad",
   "metadata": {},
   "outputs": [
    {
     "name": "stdout",
     "output_type": "stream",
     "text": [
      " 서울시 강남구\n"
     ]
    }
   ],
   "source": [
    "print(우리집_주소)"
   ]
  },
  {
   "cell_type": "code",
   "execution_count": 36,
   "id": "b5d1fd1c",
   "metadata": {},
   "outputs": [],
   "source": [
    "my_email_address = \"rnjsgur5718@naver.com\""
   ]
  },
  {
   "cell_type": "code",
   "execution_count": 37,
   "id": "319cce21",
   "metadata": {},
   "outputs": [],
   "source": [
    "myEmailAddress = \"gurwns5718@naver.com\" # cameL 표기법"
   ]
  },
  {
   "cell_type": "code",
   "execution_count": 38,
   "id": "e73b9562",
   "metadata": {},
   "outputs": [
    {
     "ename": "SyntaxError",
     "evalue": "invalid syntax (Temp/ipykernel_1648/4109464283.py, line 1)",
     "output_type": "error",
     "traceback": [
      "\u001b[1;36m  File \u001b[1;32m\"C:\\Users\\권수민\\AppData\\Local\\Temp/ipykernel_1648/4109464283.py\"\u001b[1;36m, line \u001b[1;32m1\u001b[0m\n\u001b[1;33m    5age = 30 # 숫자를 첫번째 글자로 사용할 수 없다 ( 변수명)\u001b[0m\n\u001b[1;37m     ^\u001b[0m\n\u001b[1;31mSyntaxError\u001b[0m\u001b[1;31m:\u001b[0m invalid syntax\n"
     ]
    }
   ],
   "source": [
    "5age = 30 # 숫자를 첫번째 글자로 사용할 수 없다 ( 변수명)"
   ]
  },
  {
   "cell_type": "code",
   "execution_count": 39,
   "id": "e7ca6070",
   "metadata": {},
   "outputs": [],
   "source": [
    "# 여러개 변수에 같은 값을 대입\n",
    "a = 10\n",
    "b = 10\n",
    "c = 10"
   ]
  },
  {
   "cell_type": "code",
   "execution_count": 42,
   "id": "b8d76ff9",
   "metadata": {},
   "outputs": [],
   "source": [
    "a=b=c=20"
   ]
  },
  {
   "cell_type": "code",
   "execution_count": 43,
   "id": "4144e1ca",
   "metadata": {},
   "outputs": [
    {
     "name": "stdout",
     "output_type": "stream",
     "text": [
      "20 20 20\n"
     ]
    }
   ],
   "source": [
    "print(a,b,c)"
   ]
  },
  {
   "cell_type": "code",
   "execution_count": 45,
   "id": "1602eaf8",
   "metadata": {},
   "outputs": [],
   "source": [
    "age1 = age2= age3 = age4= 0"
   ]
  },
  {
   "cell_type": "code",
   "execution_count": 46,
   "id": "5c41ed7c",
   "metadata": {},
   "outputs": [
    {
     "name": "stdout",
     "output_type": "stream",
     "text": [
      "0 0 0 0\n"
     ]
    }
   ],
   "source": [
    "print( age1, age2, age3,age4)"
   ]
  },
  {
   "cell_type": "code",
   "execution_count": 47,
   "id": "31d40158",
   "metadata": {},
   "outputs": [],
   "source": [
    "# 여러개의 값을 여러개 변수에 한번에 대입\n",
    "a = 10\n",
    "b = 20\n",
    "c = 30"
   ]
  },
  {
   "cell_type": "code",
   "execution_count": 50,
   "id": "fcb346a5",
   "metadata": {},
   "outputs": [
    {
     "name": "stdout",
     "output_type": "stream",
     "text": [
      "10 20 30\n"
     ]
    }
   ],
   "source": [
    "# 튜플대입\n",
    "a, b, c = 10, 20, 30 # 변수의 개수와 값의 개수가 같아야 한다\n",
    "print(a,b,c)"
   ]
  },
  {
   "cell_type": "code",
   "execution_count": 51,
   "id": "9e95f227",
   "metadata": {},
   "outputs": [
    {
     "name": "stdout",
     "output_type": "stream",
     "text": [
      "50 60 70 80\n"
     ]
    }
   ],
   "source": [
    "age1, age2, age3, age4 = 50, 60, 70, 80\n",
    "print(age1, age2,age3, age4)"
   ]
  },
  {
   "cell_type": "code",
   "execution_count": 52,
   "id": "38c83a23",
   "metadata": {},
   "outputs": [],
   "source": [
    "# 변수를 메모리에서 삭제\n",
    "del age1"
   ]
  },
  {
   "cell_type": "code",
   "execution_count": 53,
   "id": "b8a1dbe9",
   "metadata": {},
   "outputs": [
    {
     "ename": "NameError",
     "evalue": "name 'age1' is not defined",
     "output_type": "error",
     "traceback": [
      "\u001b[1;31m---------------------------------------------------------------------------\u001b[0m",
      "\u001b[1;31mNameError\u001b[0m                                 Traceback (most recent call last)",
      "\u001b[1;32m~\\AppData\\Local\\Temp/ipykernel_1648/3678690784.py\u001b[0m in \u001b[0;36m<module>\u001b[1;34m\u001b[0m\n\u001b[1;32m----> 1\u001b[1;33m \u001b[0mprint\u001b[0m\u001b[1;33m(\u001b[0m\u001b[0mage1\u001b[0m\u001b[1;33m)\u001b[0m\u001b[1;33m\u001b[0m\u001b[1;33m\u001b[0m\u001b[0m\n\u001b[0m",
      "\u001b[1;31mNameError\u001b[0m: name 'age1' is not defined"
     ]
    }
   ],
   "source": [
    "print(age1)"
   ]
  },
  {
   "cell_type": "code",
   "execution_count": 55,
   "id": "2dd550f6",
   "metadata": {},
   "outputs": [
    {
     "ename": "NameError",
     "evalue": "name 'age2' is not defined",
     "output_type": "error",
     "traceback": [
      "\u001b[1;31m---------------------------------------------------------------------------\u001b[0m",
      "\u001b[1;31mNameError\u001b[0m                                 Traceback (most recent call last)",
      "\u001b[1;32m~\\AppData\\Local\\Temp/ipykernel_1648/2574484577.py\u001b[0m in \u001b[0;36m<module>\u001b[1;34m\u001b[0m\n\u001b[0;32m      1\u001b[0m \u001b[1;32mdel\u001b[0m\u001b[1;33m(\u001b[0m\u001b[0mage2\u001b[0m\u001b[1;33m)\u001b[0m\u001b[1;33m\u001b[0m\u001b[1;33m\u001b[0m\u001b[0m\n\u001b[1;32m----> 2\u001b[1;33m \u001b[0mprint\u001b[0m\u001b[1;33m(\u001b[0m\u001b[0mage2\u001b[0m\u001b[1;33m)\u001b[0m\u001b[1;33m\u001b[0m\u001b[1;33m\u001b[0m\u001b[0m\n\u001b[0m",
      "\u001b[1;31mNameError\u001b[0m: name 'age2' is not defined"
     ]
    }
   ],
   "source": [
    "del(age2)\n",
    "print(age2)"
   ]
  },
  {
   "cell_type": "code",
   "execution_count": 58,
   "id": "cfc544d5",
   "metadata": {},
   "outputs": [
    {
     "name": "stdout",
     "output_type": "stream",
     "text": [
      "30\n",
      "스무살\n",
      "25.7\n"
     ]
    }
   ],
   "source": [
    "# 동적타입언어 -> 하나의 변수에 다양한 타입의 값들을 대입할 수 있다.\n",
    "age = 30\n",
    "print( age)# 정수 대입\n",
    "age = \"스무살\"#문자열 대입\n",
    "print(age)\n",
    "age = 25.7\n",
    "print( age) # 실수"
   ]
  },
  {
   "cell_type": "code",
   "execution_count": 60,
   "id": "fb7b2236",
   "metadata": {},
   "outputs": [],
   "source": [
    "# 정적타입언어 -> 변수에 타입을 고정해서 같은 타입의 값들만 저장.\n",
    "# int age = 20\n",
    "# age = 40\n",
    "# age = 50\n",
    "# age = \"스무살\" # 에러"
   ]
  },
  {
   "cell_type": "code",
   "execution_count": 61,
   "id": "5dd061e3",
   "metadata": {},
   "outputs": [
    {
     "data": {
      "text/plain": [
       "float"
      ]
     },
     "execution_count": 61,
     "metadata": {},
     "output_type": "execute_result"
    }
   ],
   "source": [
    "# 값, 변수의 타입을 확인하는 함수 -type(값)\n",
    "type(age)"
   ]
  },
  {
   "cell_type": "code",
   "execution_count": 62,
   "id": "ea53f26b",
   "metadata": {},
   "outputs": [
    {
     "data": {
      "text/plain": [
       "int"
      ]
     },
     "execution_count": 62,
     "metadata": {},
     "output_type": "execute_result"
    }
   ],
   "source": [
    "age = 30\n",
    "type(age)"
   ]
  },
  {
   "cell_type": "code",
   "execution_count": 63,
   "id": "99a71403",
   "metadata": {},
   "outputs": [
    {
     "data": {
      "text/plain": [
       "float"
      ]
     },
     "execution_count": 63,
     "metadata": {},
     "output_type": "execute_result"
    }
   ],
   "source": [
    "tall=178.9\n",
    "type(tall)"
   ]
  },
  {
   "cell_type": "code",
   "execution_count": null,
   "id": "b192276c",
   "metadata": {},
   "outputs": [],
   "source": [
    "# 데이터타입\n",
    "#숫자형"
   ]
  },
  {
   "cell_type": "code",
   "execution_count": 1,
   "id": "e71400fd",
   "metadata": {},
   "outputs": [
    {
     "name": "stdout",
     "output_type": "stream",
     "text": [
      "0.5 356.7\n"
     ]
    }
   ],
   "source": [
    "f1 = 0.5\n",
    "f2 = 356.7\n",
    "print(f1, f2)"
   ]
  },
  {
   "cell_type": "code",
   "execution_count": 2,
   "id": "9babfea4",
   "metadata": {},
   "outputs": [
    {
     "name": "stdout",
     "output_type": "stream",
     "text": [
      "0.5\n"
     ]
    }
   ],
   "source": [
    "f3 = .5 # 정수부가 0일 경우 0은 생략가능\n",
    "print(f3)"
   ]
  },
  {
   "cell_type": "code",
   "execution_count": 3,
   "id": "99cfcee0",
   "metadata": {},
   "outputs": [
    {
     "name": "stdout",
     "output_type": "stream",
     "text": [
      "30000000000.0\n"
     ]
    }
   ],
   "source": [
    "#  지수표기법 \n",
    "f4 = 3e10 # 5 * 10**10\n",
    "print(f4)"
   ]
  },
  {
   "cell_type": "code",
   "execution_count": 6,
   "id": "c7321012",
   "metadata": {},
   "outputs": [
    {
     "name": "stdout",
     "output_type": "stream",
     "text": [
      "324600000.0 <class 'float'>\n"
     ]
    }
   ],
   "source": [
    "f5 = 3246e5\n",
    "print(f5, type(f5))"
   ]
  },
  {
   "cell_type": "code",
   "execution_count": 7,
   "id": "72f9a4a7",
   "metadata": {},
   "outputs": [
    {
     "name": "stdout",
     "output_type": "stream",
     "text": [
      "0.003\n"
     ]
    }
   ],
   "source": [
    "f6 = 3e-3 # 3 *10 **-3\n",
    "print(f6)"
   ]
  },
  {
   "cell_type": "code",
   "execution_count": 9,
   "id": "479c774f",
   "metadata": {},
   "outputs": [
    {
     "data": {
      "text/plain": [
       "(int, float)"
      ]
     },
     "execution_count": 9,
     "metadata": {},
     "output_type": "execute_result"
    }
   ],
   "source": [
    "type(10), type(3.2) #int 정수  float 실수"
   ]
  },
  {
   "cell_type": "code",
   "execution_count": 13,
   "id": "7fbe67c3",
   "metadata": {},
   "outputs": [
    {
     "name": "stdout",
     "output_type": "stream",
     "text": [
      "32\n",
      "3.3333333333333335\n",
      "3\n",
      "1\n"
     ]
    }
   ],
   "source": [
    "print(2**5) # 제곱연산자\n",
    "print(10/3) # 나누기\n",
    "print(10//3) # 몫\n",
    "print(10% 3) # 나머지"
   ]
  },
  {
   "cell_type": "code",
   "execution_count": 14,
   "id": "20d2a90e",
   "metadata": {},
   "outputs": [
    {
     "name": "stdout",
     "output_type": "stream",
     "text": [
      "0\n"
     ]
    }
   ],
   "source": [
    "num = 1000\n",
    "# num이 5의 배수?\n",
    "print(num % 5)# 결과가 0이면 5의 배수"
   ]
  },
  {
   "cell_type": "code",
   "execution_count": 15,
   "id": "b85dd65a",
   "metadata": {},
   "outputs": [
    {
     "name": "stdout",
     "output_type": "stream",
     "text": [
      "True False\n"
     ]
    }
   ],
   "source": [
    "#논리형\n",
    "b1 =True\n",
    "b2 = False\n",
    "print(b1, b2)"
   ]
  },
  {
   "cell_type": "code",
   "execution_count": 18,
   "id": "14095ccb",
   "metadata": {},
   "outputs": [
    {
     "name": "stdout",
     "output_type": "stream",
     "text": [
      "False True True\n",
      "False False True True\n",
      "False\n"
     ]
    }
   ],
   "source": [
    "# contrl + /\n",
    "# bool(값) 다른 타입의 값을 논리형으로 변환\n",
    "# 빈문자열, 0,None -> False\n",
    "print(bool(\"\"), bool(\"abc\"), bool(\" \"))\n",
    "print(bool(0), bool(0.0), bool(50), bool(-50))\n",
    "print(bool(None))"
   ]
  },
  {
   "cell_type": "code",
   "execution_count": 22,
   "id": "63316d01",
   "metadata": {},
   "outputs": [
    {
     "name": "stdout",
     "output_type": "stream",
     "text": [
      "False\n",
      "True\n",
      "True\n",
      "False\n",
      "True\n"
     ]
    }
   ],
   "source": [
    "# 비교연산자\n",
    "print(5==10)\n",
    "print(10 ==10)\n",
    "print(5 != 10)\n",
    "print(10 != 10)\n",
    "print(\"abc\" != \"ac\")"
   ]
  },
  {
   "cell_type": "code",
   "execution_count": 24,
   "id": "99d71059",
   "metadata": {},
   "outputs": [
    {
     "name": "stdout",
     "output_type": "stream",
     "text": [
      "True\n",
      "False\n",
      "True\n"
     ]
    }
   ],
   "source": [
    "print( 10>5)\n",
    "print(10 < 5)\n",
    "print(10>=10)"
   ]
  },
  {
   "cell_type": "code",
   "execution_count": 27,
   "id": "9bdcbd5b",
   "metadata": {},
   "outputs": [
    {
     "name": "stdout",
     "output_type": "stream",
     "text": [
      "False\n",
      "97 98\n"
     ]
    }
   ],
   "source": [
    "print(\"a\" > \"b\")\n",
    "print(ord(\"a\"), ord(\"b\")) #문자를 숫자로 변경"
   ]
  },
  {
   "cell_type": "code",
   "execution_count": 28,
   "id": "13453e59",
   "metadata": {},
   "outputs": [
    {
     "name": "stdout",
     "output_type": "stream",
     "text": [
      "35 48 65 97 44032\n"
     ]
    }
   ],
   "source": [
    "# 특수문자 < 숫자  < 영문자  < 한글 \n",
    "print(ord(\"#\"), ord(\"0\"), ord(\"A\"), ord(\"a\"), ord(\"가\"))"
   ]
  },
  {
   "cell_type": "code",
   "execution_count": 30,
   "id": "11bd75fa",
   "metadata": {},
   "outputs": [
    {
     "name": "stdout",
     "output_type": "stream",
     "text": [
      "False\n"
     ]
    }
   ],
   "source": [
    "print(\"abcdf\" > \"abcef\")"
   ]
  },
  {
   "cell_type": "code",
   "execution_count": 37,
   "id": "16993f7d",
   "metadata": {},
   "outputs": [
    {
     "name": "stdout",
     "output_type": "stream",
     "text": [
      "True\n",
      "False\n"
     ]
    }
   ],
   "source": [
    "num =10\n",
    "# num이 5~ 20 사이의 숫자인가?\n",
    "result = num >5  and  num<20\n",
    "print(result)\n",
    "print(not result)"
   ]
  },
  {
   "cell_type": "code",
   "execution_count": 36,
   "id": "37293014",
   "metadata": {},
   "outputs": [
    {
     "name": "stdout",
     "output_type": "stream",
     "text": [
      "False\n",
      "True\n"
     ]
    }
   ],
   "source": [
    "# numdl 5~20 사이 밖의 숫자인가?\n",
    "num =10\n",
    "result =  num<5 | num>20\n",
    "print(result)\n",
    "print(not result)\n"
   ]
  },
  {
   "cell_type": "code",
   "execution_count": 39,
   "id": "b6e0dd35",
   "metadata": {},
   "outputs": [
    {
     "data": {
      "text/plain": [
       "True"
      ]
     },
     "execution_count": 39,
     "metadata": {},
     "output_type": "execute_result"
    }
   ],
   "source": [
    "True ^ False"
   ]
  },
  {
   "cell_type": "code",
   "execution_count": 40,
   "id": "9ba9766f",
   "metadata": {},
   "outputs": [
    {
     "data": {
      "text/plain": [
       "False"
      ]
     },
     "execution_count": 40,
     "metadata": {},
     "output_type": "execute_result"
    }
   ],
   "source": [
    "True ^ True"
   ]
  },
  {
   "cell_type": "code",
   "execution_count": 41,
   "id": "f3eb79aa",
   "metadata": {},
   "outputs": [
    {
     "name": "stdout",
     "output_type": "stream",
     "text": [
      "양수\n"
     ]
    }
   ],
   "source": [
    "# 조건연산자\n",
    "num = 10\n",
    "var = \"양수\"  if num>=0 else \"음수\"\n",
    "print(var)"
   ]
  },
  {
   "cell_type": "code",
   "execution_count": 42,
   "id": "94287bad",
   "metadata": {},
   "outputs": [
    {
     "name": "stdout",
     "output_type": "stream",
     "text": [
      "None\n"
     ]
    }
   ],
   "source": [
    "a = None\n",
    "print(a)"
   ]
  },
  {
   "cell_type": "code",
   "execution_count": 46,
   "id": "59bf5f35",
   "metadata": {},
   "outputs": [
    {
     "name": "stdout",
     "output_type": "stream",
     "text": [
      "abc\bd\n",
      "abc\n",
      "def\n",
      "ghi\n",
      "abc\n",
      "def\n",
      "hgi\n",
      "abc\tdef\n"
     ]
    }
   ],
   "source": [
    "# 문자열\n",
    "# escape 문자\n",
    "print(\"abc\\bd\")\n",
    "print(\"abc\\ndef\\nghi\")\n",
    "print(\"\"\"abc\n",
    "def\n",
    "hgi\"\"\")\n",
    "print(\"abc\\tdef\")"
   ]
  },
  {
   "cell_type": "code",
   "execution_count": 47,
   "id": "8ec12c73",
   "metadata": {},
   "outputs": [
    {
     "name": "stdout",
     "output_type": "stream",
     "text": [
      "a\\a\\a\\\n"
     ]
    }
   ],
   "source": [
    "print(\"a\\\\a\\\\a\\\\\")"
   ]
  },
  {
   "cell_type": "code",
   "execution_count": 50,
   "id": "e13c109c",
   "metadata": {},
   "outputs": [
    {
     "name": "stdout",
     "output_type": "stream",
     "text": [
      "C:\\Users\\권수민\\Desktop\\01_python 기초\n",
      "C:\\Users\\권수민\\Desktop\\01_python 기초\n"
     ]
    }
   ],
   "source": [
    "print(\"C:\\\\Users\\\\권수민\\\\Desktop\\\\01_python 기초\")\n",
    "# escape 문자의 \\을 무시: r-string\n",
    "print(r\"C:\\Users\\권수민\\Desktop\\01_python 기초\")"
   ]
  },
  {
   "cell_type": "code",
   "execution_count": 52,
   "id": "adc85015",
   "metadata": {},
   "outputs": [
    {
     "name": "stdout",
     "output_type": "stream",
     "text": [
      "I'm a boy\n",
      "I'm a boy\n"
     ]
    }
   ],
   "source": [
    "print(\"I'm a boy\")\n",
    "print('I\\'m a boy')"
   ]
  },
  {
   "cell_type": "code",
   "execution_count": 54,
   "id": "a4bbb554",
   "metadata": {},
   "outputs": [
    {
     "name": "stdout",
     "output_type": "stream",
     "text": [
      "abc\"def\n",
      "abc\"def\n"
     ]
    }
   ],
   "source": [
    "print(\"abc\\\"def\")\n",
    "print('abc\\\"def')"
   ]
  },
  {
   "cell_type": "code",
   "execution_count": 57,
   "id": "cdaf7c4f",
   "metadata": {},
   "outputs": [
    {
     "name": "stdout",
     "output_type": "stream",
     "text": [
      "ab\n",
      "이름 : 홍길동\n"
     ]
    }
   ],
   "source": [
    "# 문자열 연산자\n",
    "print( \"a\" +\"b\") #합친다\n",
    "name = \"홍길동\"\n",
    "print(\"이름 : \"+ name)"
   ]
  },
  {
   "cell_type": "code",
   "execution_count": 60,
   "id": "d2ad969e",
   "metadata": {},
   "outputs": [
    {
     "name": "stdout",
     "output_type": "stream",
     "text": [
      "나이 : 20\n",
      "키 : 178.8\n"
     ]
    }
   ],
   "source": [
    "age =20\n",
    "tall = 178.8\n",
    "print(\"나이 : \" +str(age))\n",
    "print(\"키 : \" + str(tall))"
   ]
  },
  {
   "cell_type": "code",
   "execution_count": 63,
   "id": "cdd78c95",
   "metadata": {},
   "outputs": [
    {
     "name": "stdout",
     "output_type": "stream",
     "text": [
      "----------\n",
      "abcdabcdabcdabcdabcd\n"
     ]
    }
   ],
   "source": [
    "print(\"-\"*10)\n",
    "print(\"abcd\" *5)"
   ]
  },
  {
   "cell_type": "code",
   "execution_count": 67,
   "id": "f4da4b12",
   "metadata": {},
   "outputs": [
    {
     "name": "stdout",
     "output_type": "stream",
     "text": [
      "홍길동 3\n",
      "12\n"
     ]
    }
   ],
   "source": [
    "print(name,len(name))\n",
    "print(len(\"asdfasdfasdf\"))"
   ]
  },
  {
   "cell_type": "code",
   "execution_count": 70,
   "id": "e95c4412",
   "metadata": {},
   "outputs": [
    {
     "name": "stdout",
     "output_type": "stream",
     "text": [
      "True\n",
      "True False\n"
     ]
    }
   ],
   "source": [
    "addr = \"서울시 서초구 서초동\"\n",
    "r = \"서초구\" in addr #addr 문자열 안에 \"서초\" 문자열이 있나?\n",
    "print(r)\n",
    "r2 = \"종로구\" in addr\n",
    "print(r, r2)"
   ]
  },
  {
   "cell_type": "code",
   "execution_count": 71,
   "id": "9f92fe61",
   "metadata": {},
   "outputs": [
    {
     "name": "stdout",
     "output_type": "stream",
     "text": [
      "False\n",
      "False True\n"
     ]
    }
   ],
   "source": [
    "addr = \"서울시 서초구 서초동\"\n",
    "r = \"서초구\" not in addr #addr 문자열 안에 \"서초\" 문자열이 있나?\n",
    "print(r)\n",
    "r2 = \"종로구\" not in addr\n",
    "print(r, r2)"
   ]
  },
  {
   "cell_type": "code",
   "execution_count": 74,
   "id": "28651ff2",
   "metadata": {},
   "outputs": [
    {
     "data": {
      "text/plain": [
       "2"
      ]
     },
     "execution_count": 74,
     "metadata": {},
     "output_type": "execute_result"
    }
   ],
   "source": [
    "# print(값) 값을 출력\n",
    "2+1\n",
    "3+3\n",
    "1+1"
   ]
  },
  {
   "cell_type": "code",
   "execution_count": 75,
   "id": "7dd49676",
   "metadata": {},
   "outputs": [
    {
     "name": "stdout",
     "output_type": "stream",
     "text": [
      "2\n",
      "6\n",
      "3\n"
     ]
    }
   ],
   "source": [
    "print (1+1)\n",
    "print (3+3)\n",
    "print (2+1)"
   ]
  },
  {
   "cell_type": "code",
   "execution_count": 76,
   "id": "2f31cbda",
   "metadata": {},
   "outputs": [
    {
     "data": {
      "text/plain": [
       "'a'"
      ]
     },
     "execution_count": 76,
     "metadata": {},
     "output_type": "execute_result"
    }
   ],
   "source": [
    "\"a\""
   ]
  },
  {
   "cell_type": "code",
   "execution_count": 77,
   "id": "ba0ed394",
   "metadata": {},
   "outputs": [
    {
     "name": "stdout",
     "output_type": "stream",
     "text": [
      "a\n"
     ]
    }
   ],
   "source": [
    "print(\"a\")"
   ]
  },
  {
   "cell_type": "code",
   "execution_count": 80,
   "id": "07a06548",
   "metadata": {},
   "outputs": [
    {
     "name": "stdout",
     "output_type": "stream",
     "text": [
      "A 20 30 3.2323\n",
      "A | 20 | 30 | 3.2323\n"
     ]
    }
   ],
   "source": [
    "print(\"A\", 20, \"30\", 3.2323) #출력하려는 값들이여러개일 경우 , 를 구분자로 해서 나열\n",
    "print(\"A\", 20, \"30\", 3.2323, sep=\" | \")"
   ]
  },
  {
   "cell_type": "code",
   "execution_count": 82,
   "id": "7e4fca84",
   "metadata": {},
   "outputs": [
    {
     "name": "stdout",
     "output_type": "stream",
     "text": [
      "abc\n",
      "def\n"
     ]
    }
   ],
   "source": [
    "# print() 출력할 값 뒤에 엔터를 기본적을 붙임. 그래서 다음 출력은 다음줄에 나온다.\n",
    "print(\"abc\")\n",
    "print(\"def\")"
   ]
  },
  {
   "cell_type": "code",
   "execution_count": 86,
   "id": "57131e81",
   "metadata": {},
   "outputs": [
    {
     "name": "stdout",
     "output_type": "stream",
     "text": [
      "abc-def\n"
     ]
    }
   ],
   "source": [
    "print(\"abc\", end=\"-\") # end는 출력할 값뒤에 붙일 값을 변경한다.\n",
    "print(\"def\")"
   ]
  },
  {
   "cell_type": "code",
   "execution_count": 87,
   "id": "56338966",
   "metadata": {},
   "outputs": [],
   "source": [
    "# 인덱싱"
   ]
  },
  {
   "cell_type": "code",
   "execution_count": 104,
   "id": "7599ef92",
   "metadata": {},
   "outputs": [
    {
     "name": "stdout",
     "output_type": "stream",
     "text": [
      "안녕하세요. 반갑습니다.\n"
     ]
    }
   ],
   "source": [
    "s= \"안녕하세요. 반갑습니다.\"\n",
    "print(s)"
   ]
  },
  {
   "cell_type": "code",
   "execution_count": 96,
   "id": "de645206",
   "metadata": {},
   "outputs": [
    {
     "name": "stdout",
     "output_type": "stream",
     "text": [
      "2번 index 글자(3번재) : 하\n",
      "5번 index 글자(6번째) : .\n",
      "뒤에서 2번째 글자:  다\n",
      "반 반\n"
     ]
    }
   ],
   "source": [
    "print(\"2번 index 글자(3번재) :\",s[2])\n",
    "print(\"5번 index 글자(6번째) :\", s[5])\n",
    "print(\"뒤에서 2번째 글자: \",s[-2])\n",
    "print(s[7], s[-6])"
   ]
  },
  {
   "cell_type": "code",
   "execution_count": 99,
   "id": "d5bc09d0",
   "metadata": {},
   "outputs": [
    {
     "ename": "TypeError",
     "evalue": "'str' object does not support item assignment",
     "output_type": "error",
     "traceback": [
      "\u001b[1;31m---------------------------------------------------------------------------\u001b[0m",
      "\u001b[1;31mTypeError\u001b[0m                                 Traceback (most recent call last)",
      "\u001b[1;32m~\\AppData\\Local\\Temp/ipykernel_4780/1817744632.py\u001b[0m in \u001b[0;36m<module>\u001b[1;34m\u001b[0m\n\u001b[1;32m----> 1\u001b[1;33m \u001b[0ms\u001b[0m\u001b[1;33m[\u001b[0m\u001b[1;36m3\u001b[0m\u001b[1;33m]\u001b[0m \u001b[1;33m=\u001b[0m \u001b[1;34m\"가\"\u001b[0m \u001b[1;31m# index를 이용해 특정 문자를 변경할 수 없다.\u001b[0m\u001b[1;33m\u001b[0m\u001b[1;33m\u001b[0m\u001b[0m\n\u001b[0m",
      "\u001b[1;31mTypeError\u001b[0m: 'str' object does not support item assignment"
     ]
    }
   ],
   "source": [
    "s[3] = \"가\" # index를 이용해 특정 문자를 변경할 수 없다."
   ]
  },
  {
   "cell_type": "code",
   "execution_count": 107,
   "id": "978c4b64",
   "metadata": {},
   "outputs": [
    {
     "data": {
      "text/plain": [
       "3"
      ]
     },
     "execution_count": 107,
     "metadata": {},
     "output_type": "execute_result"
    }
   ],
   "source": [
    "s.index(\"세\")"
   ]
  },
  {
   "cell_type": "code",
   "execution_count": 110,
   "id": "8a428b23",
   "metadata": {},
   "outputs": [
    {
     "name": "stdout",
     "output_type": "stream",
     "text": [
      "14\n"
     ]
    }
   ],
   "source": [
    "s = \"asdfasdfadfsdf\"\n",
    "print(len(s)) #14글자 - index: 0~13"
   ]
  },
  {
   "cell_type": "code",
   "execution_count": 112,
   "id": "3ae307b4",
   "metadata": {},
   "outputs": [
    {
     "data": {
      "text/plain": [
       "'dada'"
      ]
     },
     "execution_count": 112,
     "metadata": {},
     "output_type": "execute_result"
    }
   ],
   "source": [
    "s[2:10:2] # 범위: 2~10-1(9) 간격 2->2,4,6,8,"
   ]
  },
  {
   "cell_type": "code",
   "execution_count": 114,
   "id": "126979c7",
   "metadata": {},
   "outputs": [
    {
     "data": {
      "text/plain": [
       "'dfasdfad'"
      ]
     },
     "execution_count": 114,
     "metadata": {},
     "output_type": "execute_result"
    }
   ],
   "source": [
    "s[2:10] # 간격 생략- 기본값 : 1 , :도 생략가능"
   ]
  },
  {
   "cell_type": "code",
   "execution_count": 115,
   "id": "11a778da",
   "metadata": {},
   "outputs": [
    {
     "data": {
      "text/plain": [
       "'asdfasdfad'"
      ]
     },
     "execution_count": 115,
     "metadata": {},
     "output_type": "execute_result"
    }
   ],
   "source": [
    "s[:10] # 시작 생략-기본값:0:0~9"
   ]
  },
  {
   "cell_type": "code",
   "execution_count": 116,
   "id": "0ea471e2",
   "metadata": {},
   "outputs": [
    {
     "data": {
      "text/plain": [
       "'fsdf'"
      ]
     },
     "execution_count": 116,
     "metadata": {},
     "output_type": "execute_result"
    }
   ],
   "source": [
    "s[10:] # 종료 생략 - 마지막 index 까지 조회"
   ]
  },
  {
   "cell_type": "code",
   "execution_count": 117,
   "id": "99d991c1",
   "metadata": {},
   "outputs": [
    {
     "data": {
      "text/plain": [
       "'afddd'"
      ]
     },
     "execution_count": 117,
     "metadata": {},
     "output_type": "execute_result"
    }
   ],
   "source": [
    "s[::3]"
   ]
  },
  {
   "cell_type": "code",
   "execution_count": 119,
   "id": "d197bf43",
   "metadata": {},
   "outputs": [
    {
     "data": {
      "text/plain": [
       "'safd'"
      ]
     },
     "execution_count": 119,
     "metadata": {},
     "output_type": "execute_result"
    }
   ],
   "source": [
    "s[5:1:-1] # 시작 :5 ~ 종료 : 2"
   ]
  },
  {
   "cell_type": "code",
   "execution_count": 120,
   "id": "a6739987",
   "metadata": {},
   "outputs": [
    {
     "data": {
      "text/plain": [
       "'fdsfdafdsafdsa'"
      ]
     },
     "execution_count": 120,
     "metadata": {},
     "output_type": "execute_result"
    }
   ],
   "source": [
    "s[::-1]"
   ]
  },
  {
   "cell_type": "code",
   "execution_count": 121,
   "id": "8cc5738a",
   "metadata": {},
   "outputs": [
    {
     "data": {
      "text/plain": [
       "'dsfdafdsa'"
      ]
     },
     "execution_count": 121,
     "metadata": {},
     "output_type": "execute_result"
    }
   ],
   "source": [
    "s[-2:3:-1]"
   ]
  },
  {
   "cell_type": "code",
   "execution_count": 122,
   "id": "56850870",
   "metadata": {},
   "outputs": [],
   "source": [
    "# formatting 문자열"
   ]
  },
  {
   "cell_type": "code",
   "execution_count": 128,
   "id": "916f07b9",
   "metadata": {},
   "outputs": [],
   "source": [
    "name1, age1, address1 = \"홍길동\", 10, \"서울\"\n",
    "name2, age2, address2 = \"이순신\", 20, \"인천\"\n",
    "name3, age3, address3 = \"강감찬\", 30, \"부산\"\n"
   ]
  },
  {
   "cell_type": "code",
   "execution_count": 131,
   "id": "20ac2922",
   "metadata": {},
   "outputs": [
    {
     "name": "stdout",
     "output_type": "stream",
     "text": [
      "이름: 홍길동\n",
      "나이: 10세\n",
      "주소: 서울\n"
     ]
    }
   ],
   "source": [
    "info1 = \"이름: \"+name1+\"\\n나이: \"+str(age1)+\"세\\n주소: \"+address1\n",
    "print(info1)"
   ]
  },
  {
   "cell_type": "code",
   "execution_count": 133,
   "id": "11a2bafb",
   "metadata": {},
   "outputs": [
    {
     "name": "stdout",
     "output_type": "stream",
     "text": [
      "이름 : 홍길동\n",
      "나이 : 10세\n",
      "주소 : 서울\n"
     ]
    }
   ],
   "source": [
    "#{} -> 나중에 값이 들어갈 자리\n",
    "info_layout = \"이름 : {}\\n나이 : {}세\\n주소 : {}\"\n",
    "\n",
    "info1=info_layout.format(name1,age1, address1)\n",
    "print(info1)"
   ]
  },
  {
   "cell_type": "code",
   "execution_count": 134,
   "id": "7da500ba",
   "metadata": {},
   "outputs": [
    {
     "name": "stdout",
     "output_type": "stream",
     "text": [
      "이름 : 이순신\n",
      "나이 : 20세\n",
      "주소 : 부산\n"
     ]
    }
   ],
   "source": [
    "print(info_layout.format(name2, age2, address3))"
   ]
  },
  {
   "cell_type": "code",
   "execution_count": 136,
   "id": "35b14ace",
   "metadata": {},
   "outputs": [
    {
     "name": "stdout",
     "output_type": "stream",
     "text": [
      "이름 : 강감찬\n",
      "나이 : 30세\n",
      "주소 : 부산\n"
     ]
    }
   ],
   "source": [
    "print(\"이름 : {}\\n나이 : {}세\\n주소 : {}\" .format(name3,age3,address3))"
   ]
  },
  {
   "cell_type": "code",
   "execution_count": 139,
   "id": "066e9475",
   "metadata": {},
   "outputs": [
    {
     "name": "stdout",
     "output_type": "stream",
     "text": [
      "이름 : 강감찬\n",
      "나이 : 30세\n",
      "주소 : 부산, 이름 : 강감찬\n"
     ]
    }
   ],
   "source": [
    "#{0}: 첫번째 값 {1} : 두번째 값\n",
    "# 동일한 값을 여러군데에서 사용할 경우.\n",
    "print(\"이름 : {0}\\n나이 : {1}세\\n주소 : {2}, 이름 : {0}\" .format(name3,age3,address3))"
   ]
  },
  {
   "cell_type": "code",
   "execution_count": 142,
   "id": "41067349",
   "metadata": {},
   "outputs": [
    {
     "name": "stdout",
     "output_type": "stream",
     "text": [
      "이름 : 강감찬\n",
      "나이 : 30세\n",
      "주소 : 부산\n"
     ]
    }
   ],
   "source": [
    "#{name} : 괄호의 이름지정. 값 전달시 관호이름 = 값\n",
    "print(\"이름 : {name}\\n나이 : {age}세\\n주소 : {addr}\" .format(name=name3,age=age3,addr=address3))"
   ]
  },
  {
   "cell_type": "code",
   "execution_count": 145,
   "id": "93686d92",
   "metadata": {},
   "outputs": [
    {
     "name": "stdout",
     "output_type": "stream",
     "text": [
      "이름: 홍길동, 나이: 23, 몸무게: 72.70\n"
     ]
    }
   ],
   "source": [
    "# 형식문자를 이용한 formtting\n",
    "# %s-string, %d-int, %f-float\n",
    "name, age, weight =\"홍길동\", 23, 72.7\n",
    "info = \"이름: %s, 나이: %d, 몸무게: %.2f\"   %  (name, age, weight)\n",
    "print(info)"
   ]
  },
  {
   "cell_type": "code",
   "execution_count": 147,
   "id": "79362c50",
   "metadata": {},
   "outputs": [
    {
     "name": "stdout",
     "output_type": "stream",
     "text": [
      "이름: 홍길동, 나이: 23, 몸무게: 72.7\n"
     ]
    }
   ],
   "source": [
    "# f-string\n",
    "name, age, weight =\"홍길동\", 23, 72.7\n",
    "print(f\"이름: {name}, 나이: {age}, 몸무게: {weight}\")"
   ]
  },
  {
   "cell_type": "code",
   "execution_count": 153,
   "id": "91625eda",
   "metadata": {},
   "outputs": [
    {
     "name": "stdout",
     "output_type": "stream",
     "text": [
      "이름:  홍길동 , 나이: 23, 몸무게: 81.16\n"
     ]
    }
   ],
   "source": [
    "weight = 81.156\n",
    "print(f\"이름: {name:^5}, 나이: {age}, 몸무게: {weight:.2f}\")"
   ]
  },
  {
   "cell_type": "code",
   "execution_count": 156,
   "id": "8fc21076",
   "metadata": {},
   "outputs": [
    {
     "ename": "ValueError",
     "evalue": "Unknown format code 'f' for object of type 'str'",
     "output_type": "error",
     "traceback": [
      "\u001b[1;31m---------------------------------------------------------------------------\u001b[0m",
      "\u001b[1;31mValueError\u001b[0m                                Traceback (most recent call last)",
      "\u001b[1;32m~\\AppData\\Local\\Temp/ipykernel_4780/2654029297.py\u001b[0m in \u001b[0;36m<module>\u001b[1;34m\u001b[0m\n\u001b[0;32m      1\u001b[0m \u001b[1;31m# 타입 : f-실수, d-정수, s-문자열\u001b[0m\u001b[1;33m\u001b[0m\u001b[1;33m\u001b[0m\u001b[0m\n\u001b[1;32m----> 2\u001b[1;33m \u001b[1;34mf\"이름 : {name:.2f}\"\u001b[0m\u001b[1;33m\u001b[0m\u001b[1;33m\u001b[0m\u001b[0m\n\u001b[0m",
      "\u001b[1;31mValueError\u001b[0m: Unknown format code 'f' for object of type 'str'"
     ]
    }
   ],
   "source": [
    "# 타입 : f-실수, d-정수, s-문자열\n",
    "f\"이름 : {name:.2f}\""
   ]
  },
  {
   "cell_type": "code",
   "execution_count": 160,
   "id": "75d75095",
   "metadata": {},
   "outputs": [
    {
     "data": {
      "text/plain": [
       "['사과', '귤', '배', '수박', '복숭아']"
      ]
     },
     "execution_count": 160,
     "metadata": {},
     "output_type": "execute_result"
    }
   ],
   "source": [
    "# 문자열 관련 함수/메소드\n",
    "s=\"사과|귤|배|수박|복숭아\"\n",
    "s.split(\"|\")"
   ]
  },
  {
   "cell_type": "code",
   "execution_count": 164,
   "id": "42e75ef9",
   "metadata": {},
   "outputs": [
    {
     "data": {
      "text/plain": [
       "'abc'"
      ]
     },
     "execution_count": 164,
     "metadata": {},
     "output_type": "execute_result"
    }
   ],
   "source": [
    "s2 = \"   abc  \"\n",
    "s2.lstrip()\n",
    "s2.rstrip()\n",
    "s2.strip()"
   ]
  },
  {
   "cell_type": "code",
   "execution_count": 166,
   "id": "9a7a07c9",
   "metadata": {},
   "outputs": [
    {
     "data": {
      "text/plain": [
       "'가c가c가c'"
      ]
     },
     "execution_count": 166,
     "metadata": {},
     "output_type": "execute_result"
    }
   ],
   "source": [
    "s3 = \"abcabcabc\"\n",
    "s3.replace(\"ab\", \"가\") # ab를 가로 변경"
   ]
  },
  {
   "cell_type": "code",
   "execution_count": 170,
   "id": "f433ac03",
   "metadata": {},
   "outputs": [
    {
     "data": {
      "text/plain": [
       "3"
      ]
     },
     "execution_count": 170,
     "metadata": {},
     "output_type": "execute_result"
    }
   ],
   "source": [
    "len(s3) #s3의 글자수\n",
    "s3.count(\"a\")\n",
    "s3.count(\"bc\")"
   ]
  },
  {
   "cell_type": "code",
   "execution_count": 178,
   "id": "fce08a50",
   "metadata": {},
   "outputs": [
    {
     "ename": "ValueError",
     "evalue": "substring not found",
     "output_type": "error",
     "traceback": [
      "\u001b[1;31m---------------------------------------------------------------------------\u001b[0m",
      "\u001b[1;31mValueError\u001b[0m                                Traceback (most recent call last)",
      "\u001b[1;32m~\\AppData\\Local\\Temp/ipykernel_4780/615414398.py\u001b[0m in \u001b[0;36m<module>\u001b[1;34m\u001b[0m\n\u001b[0;32m      1\u001b[0m \u001b[0ms3\u001b[0m\u001b[1;33m.\u001b[0m\u001b[0mindex\u001b[0m\u001b[1;33m(\u001b[0m\u001b[1;34m\"a\"\u001b[0m\u001b[1;33m)\u001b[0m \u001b[1;31m# a index\u001b[0m\u001b[1;33m\u001b[0m\u001b[1;33m\u001b[0m\u001b[0m\n\u001b[0;32m      2\u001b[0m \u001b[0ms3\u001b[0m\u001b[1;33m.\u001b[0m\u001b[0mindex\u001b[0m\u001b[1;33m(\u001b[0m\u001b[1;34m\"bc\"\u001b[0m\u001b[1;33m)\u001b[0m\u001b[1;33m\u001b[0m\u001b[1;33m\u001b[0m\u001b[0m\n\u001b[1;32m----> 3\u001b[1;33m \u001b[0ms3\u001b[0m\u001b[1;33m.\u001b[0m\u001b[0mindex\u001b[0m\u001b[1;33m(\u001b[0m\u001b[1;34m\"가\"\u001b[0m\u001b[1;33m)\u001b[0m\u001b[1;33m\u001b[0m\u001b[1;33m\u001b[0m\u001b[0m\n\u001b[0m",
      "\u001b[1;31mValueError\u001b[0m: substring not found"
     ]
    }
   ],
   "source": [
    "s3.index(\"a\") # a index\n",
    "s3.index(\"bc\")\n",
    "s3.index(\"가\") # 없는 문자열을 찾으면 에러"
   ]
  },
  {
   "cell_type": "code",
   "execution_count": 179,
   "id": "d22b539c",
   "metadata": {},
   "outputs": [
    {
     "data": {
      "text/plain": [
       "-1"
      ]
     },
     "execution_count": 179,
     "metadata": {},
     "output_type": "execute_result"
    }
   ],
   "source": [
    "s3.find(\"a\")\n",
    "s3.find(\"bc\")\n",
    "s3.find(\"가\") # 없는 문자열을 찾을 경우 -1을 반환"
   ]
  },
  {
   "cell_type": "code",
   "execution_count": 182,
   "id": "24270ef1",
   "metadata": {},
   "outputs": [
    {
     "data": {
      "text/plain": [
       "'가 없다'"
      ]
     },
     "execution_count": 182,
     "metadata": {},
     "output_type": "execute_result"
    }
   ],
   "source": [
    "\"가 없다\" if s3.find(\"가\") == -1 else \"가 있다.\""
   ]
  },
  {
   "cell_type": "code",
   "execution_count": 184,
   "id": "a1eba823",
   "metadata": {},
   "outputs": [
    {
     "data": {
      "text/plain": [
       "'abcde'"
      ]
     },
     "execution_count": 184,
     "metadata": {},
     "output_type": "execute_result"
    }
   ],
   "source": [
    "s4 = \"AbCdE\"\n",
    "s4.upper()\n",
    "s4.lower()"
   ]
  },
  {
   "cell_type": "code",
   "execution_count": 186,
   "id": "1819ebf1",
   "metadata": {},
   "outputs": [
    {
     "data": {
      "text/plain": [
       "False"
      ]
     },
     "execution_count": 186,
     "metadata": {},
     "output_type": "execute_result"
    }
   ],
   "source": [
    "addr = \"서울시 서대문구\"\n",
    "addr.startswith(\"서울\")\n",
    "addr.startswith(\"광주\")"
   ]
  },
  {
   "cell_type": "code",
   "execution_count": 190,
   "id": "2675fa08",
   "metadata": {},
   "outputs": [
    {
     "data": {
      "text/plain": [
       "False"
      ]
     },
     "execution_count": 190,
     "metadata": {},
     "output_type": "execute_result"
    }
   ],
   "source": [
    "url = \"www.naver.com\"\n",
    "url.endswith(\".com\")\n",
    "url.endswith(\".net\")"
   ]
  },
  {
   "cell_type": "code",
   "execution_count": 201,
   "id": "e479d654",
   "metadata": {},
   "outputs": [
    {
     "name": "stdout",
     "output_type": "stream",
     "text": [
      "num1:20\n"
     ]
    }
   ],
   "source": [
    "# 타입변환\n",
    "\n",
    "num1 =input(\"num1:\") # 사용자로부터 값을 입력받을 때 사용. 입력받은 값을 str으로 반환"
   ]
  },
  {
   "cell_type": "code",
   "execution_count": 200,
   "id": "b399df91",
   "metadata": {},
   "outputs": [
    {
     "name": "stdout",
     "output_type": "stream",
     "text": [
      "num2: 50\n"
     ]
    }
   ],
   "source": [
    "num2 = input(\"num2: \")"
   ]
  },
  {
   "cell_type": "code",
   "execution_count": 203,
   "id": "005c0aa0",
   "metadata": {},
   "outputs": [
    {
     "data": {
      "text/plain": [
       "70"
      ]
     },
     "execution_count": 203,
     "metadata": {},
     "output_type": "execute_result"
    }
   ],
   "source": [
    "# 덧셈을 하려면 문자열을 정수/실수 변환\n",
    "int(num1) +int(num2)"
   ]
  },
  {
   "cell_type": "code",
   "execution_count": 204,
   "id": "2ace9b2b",
   "metadata": {},
   "outputs": [
    {
     "data": {
      "text/plain": [
       "70.0"
      ]
     },
     "execution_count": 204,
     "metadata": {},
     "output_type": "execute_result"
    }
   ],
   "source": [
    "float(num1) + float(num2)"
   ]
  },
  {
   "cell_type": "code",
   "execution_count": 205,
   "id": "f944f1b4",
   "metadata": {},
   "outputs": [
    {
     "name": "stdout",
     "output_type": "stream",
     "text": [
      "abc\n"
     ]
    }
   ],
   "source": [
    "s= input()"
   ]
  },
  {
   "cell_type": "code",
   "execution_count": 206,
   "id": "ce4e90cc",
   "metadata": {},
   "outputs": [
    {
     "ename": "ValueError",
     "evalue": "invalid literal for int() with base 10: 'abc'",
     "output_type": "error",
     "traceback": [
      "\u001b[1;31m---------------------------------------------------------------------------\u001b[0m",
      "\u001b[1;31mValueError\u001b[0m                                Traceback (most recent call last)",
      "\u001b[1;32m~\\AppData\\Local\\Temp/ipykernel_4780/2179186071.py\u001b[0m in \u001b[0;36m<module>\u001b[1;34m\u001b[0m\n\u001b[1;32m----> 1\u001b[1;33m \u001b[0mint\u001b[0m\u001b[1;33m(\u001b[0m\u001b[0ms\u001b[0m\u001b[1;33m)\u001b[0m\u001b[1;33m\u001b[0m\u001b[1;33m\u001b[0m\u001b[0m\n\u001b[0m",
      "\u001b[1;31mValueError\u001b[0m: invalid literal for int() with base 10: 'abc'"
     ]
    }
   ],
   "source": [
    "int(s) # abc를 정수로 변환\n",
    "# float(), int()는 변환가능한 형태의 문자열만 변환"
   ]
  },
  {
   "cell_type": "code",
   "execution_count": 207,
   "id": "495c50b5",
   "metadata": {},
   "outputs": [
    {
     "data": {
      "text/plain": [
       "0"
      ]
     },
     "execution_count": 207,
     "metadata": {},
     "output_type": "execute_result"
    }
   ],
   "source": [
    "int(True) #True : 1\n",
    "int(False) #False : 0"
   ]
  },
  {
   "cell_type": "code",
   "execution_count": 1,
   "id": "3d89e5ea",
   "metadata": {},
   "outputs": [
    {
     "name": "stdout",
     "output_type": "stream",
     "text": [
      "901211\n"
     ]
    },
    {
     "data": {
      "text/plain": [
       "'901211'"
      ]
     },
     "execution_count": 1,
     "metadata": {},
     "output_type": "execute_result"
    }
   ],
   "source": [
    "# 문자열 퀴즈\n",
    "\n",
    "#1. 주민번호 \"901211-1027213\"의 앞 6자리만 조회해서 출력하시오.\n",
    "jumin=\"901211-1027213\"\n",
    "print(jumin[0:6])\n",
    "jumin.split(\"-\")[0]"
   ]
  },
  {
   "cell_type": "code",
   "execution_count": 2,
   "id": "2043c3c5",
   "metadata": {},
   "outputs": [
    {
     "name": "stdout",
     "output_type": "stream",
     "text": [
      "안녕하세요안녕하세요안녕하세요안녕하세요안녕하세요안녕하세요안녕하세요안녕하세요안녕하세요안녕하세요\n"
     ]
    }
   ],
   "source": [
    "#2. \"안녕하세요\" 를 10번 출력하시오.\n",
    "hi=\"안녕하세요\"\n",
    "print(hi*10)"
   ]
  },
  {
   "cell_type": "code",
   "execution_count": 216,
   "id": "4c877e48",
   "metadata": {},
   "outputs": [
    {
     "data": {
      "text/plain": [
       "24"
      ]
     },
     "execution_count": 216,
     "metadata": {},
     "output_type": "execute_result"
    }
   ],
   "source": [
    "#3. 다음 문자열의 글자수를 출력하시오.\n",
    "#     \"akdlclkdkdlelql39du7마구0ㅌ\"\n",
    "s= \"akdlclkdkdlelql39du7마구0ㅌ\"\n",
    "len(s)\n",
    "    "
   ]
  },
  {
   "cell_type": "code",
   "execution_count": 232,
   "id": "f9e3720d",
   "metadata": {},
   "outputs": [
    {
     "name": "stdout",
     "output_type": "stream",
     "text": [
      "제품명 : TV, 가격 : 300000, 제조사 : LG\n",
      "제품명 : TV, 가격 : 300000, 제조사 : LG\n",
      "제품명 : TV, 가격:  300000, 제조사 : LG\n"
     ]
    }
   ],
   "source": [
    "# #4.\n",
    "# name=\"TV\"\n",
    "# price=300000\n",
    "# maker = \"LG\"\n",
    "# # 위 변수의 값을 다음과 같은 형태로 출력하시오.\n",
    "# #\"제품명 : TV, 가격 : 300000, 제조사 : LG\"\n",
    "name=\"TV\"\n",
    "price=300000\n",
    "maker = \"LG\"\n",
    "print(\"제품명 : {}, 가격 : {}, 제조사 : {}\".format(name, price, maker))\n",
    "print(f\"제품명 : {name}, 가격 : {price}, 제조사 : {maker}\")\n",
    "print(\"제품명 : %s, 가격:  %d, 제조사 : %s\" % (name, price, maker))\n"
   ]
  },
  {
   "cell_type": "code",
   "execution_count": 235,
   "id": "83d4f97d",
   "metadata": {},
   "outputs": [
    {
     "data": {
      "text/plain": [
       "'없음'"
      ]
     },
     "execution_count": 235,
     "metadata": {},
     "output_type": "execute_result"
    }
   ],
   "source": [
    "#5\n",
    "# fruits = \"사과 복숭아 귤 배\"\n",
    "# # 위 fruits에 \"수박\"이 있는지 확인하는 코드를 작성하시오.\n",
    "fruits = \"사과 복숭아 귤 배\"\n",
    "fruits.find(\"수박\")\n",
    "# \"수박\" in fruits\n",
    "\"있음\"  if \"수박\" in fruits else  \"없음\""
   ]
  },
  {
   "cell_type": "code",
   "execution_count": 237,
   "id": "b4c199a6",
   "metadata": {},
   "outputs": [
    {
     "name": "stdout",
     "output_type": "stream",
     "text": [
      "총글자수: 35\n",
      "a의 개수: 9\n"
     ]
    }
   ],
   "source": [
    "#6 \n",
    "# str_value=\"aldkjaldjfalfjlksajfladlkaalalkdjfa\"\n",
    "# str_value 문자열안에 a가 몇개 있는지 출력하시오.\n",
    "str_value=\"aldkjaldjfalfjlksajfladlkaalalkdjfa\"\n",
    "str_value.count(\"a\")\n",
    "print(\"총글자수:\" , len(str_value))\n",
    "print(\"a의 개수:\", str_value.count(\"a\"))"
   ]
  },
  {
   "cell_type": "code",
   "execution_count": null,
   "id": "5f1639bb",
   "metadata": {},
   "outputs": [],
   "source": []
  },
  {
   "cell_type": "code",
   "execution_count": null,
   "id": "dcec030f",
   "metadata": {},
   "outputs": [],
   "source": []
  },
  {
   "cell_type": "code",
   "execution_count": null,
   "id": "eabf2906",
   "metadata": {},
   "outputs": [],
   "source": []
  }
 ],
 "metadata": {
  "kernelspec": {
   "display_name": "Python 3 (ipykernel)",
   "language": "python",
   "name": "python3"
  },
  "language_info": {
   "codemirror_mode": {
    "name": "ipython",
    "version": 3
   },
   "file_extension": ".py",
   "mimetype": "text/x-python",
   "name": "python",
   "nbconvert_exporter": "python",
   "pygments_lexer": "ipython3",
   "version": "3.9.7"
  }
 },
 "nbformat": 4,
 "nbformat_minor": 5
}
